{
 "cells": [
  {
   "cell_type": "markdown",
   "metadata": {},
   "source": [
    "# CKKS with Numpy"
   ]
  },
  {
   "cell_type": "code",
   "execution_count": 9,
   "metadata": {},
   "outputs": [
    {
     "data": {
      "text/plain": [
       "(0.7071067811865476+0.7071067811865475j)"
      ]
     },
     "execution_count": 9,
     "metadata": {},
     "output_type": "execute_result"
    }
   ],
   "source": [
    "import numpy as np\n",
    "\n",
    "# First we set the parameters\n",
    "M = 8\n",
    "N = M //2\n",
    "\n",
    "# We set xi, which will be used in our computations\n",
    "xi = np.exp(2 * np.pi * 1j / M)\n",
    "xi"
   ]
  },
  {
   "cell_type": "code",
   "execution_count": 10,
   "metadata": {},
   "outputs": [],
   "source": [
    "from numpy.polynomial import Polynomial\n",
    "from numpy.polynomial.polynomial import polyval\n",
    "\n",
    "class CKKSEncoder:\n",
    "    \"\"\"Basic CKKS encoder to encode complex vectors into polynomials.\"\"\"\n",
    "    \n",
    "    def __init__(self, M: int):\n",
    "        \"\"\"Initialization of the encoder for M a power of 2. \n",
    "        \n",
    "        xi, which is an M-th root of unity will, be used as a basis for our computations.\n",
    "        \"\"\"\n",
    "        self.xi = np.exp(2 * np.pi * 1j / M)\n",
    "        self.M = M\n",
    "        \n",
    "    def sigma_inverse(self, b: np.array) -> Polynomial:\n",
    "        \"\"\"Encodes the vector b in a polynomial using an M-th root of unity.\"\"\"\n",
    "\n",
    "        # First we create the Vandermonde matrix\n",
    "        # A = CKKSEncoder.vandermonde(self.xi, M)\n",
    "        N = M // 2\n",
    "        root = self.xi\n",
    "        roots = np.power(root, 2 * np.arange(N) + 1)\n",
    "        A = np.vander(roots, N, increasing=True)    \n",
    "\n",
    "        # Then we solve the system\n",
    "        coeffs = np.linalg.solve(A, b)\n",
    "\n",
    "        # Finally we output the polynomial\n",
    "        p = Polynomial(coeffs)\n",
    "        return p\n",
    "\n",
    "    def sigma(self, p: Polynomial) -> np.array:\n",
    "        \"\"\"Decodes a polynomial by applying it to the M-th roots of unity.\"\"\"\n",
    "\n",
    "        outputs = []\n",
    "        N = self.M //2\n",
    "\n",
    "        # We simply apply the polynomial on the roots\n",
    "        for i in range(N):\n",
    "            root = self.xi ** (2 * i + 1)\n",
    "            # output = polyval(root, p)\n",
    "            output = p(root)\n",
    "            outputs.append(output)\n",
    "        return np.array(outputs)"
   ]
  },
  {
   "cell_type": "code",
   "execution_count": 11,
   "metadata": {},
   "outputs": [
    {
     "name": "stdout",
     "output_type": "stream",
     "text": [
      "Message:\n",
      " [0 1 2 3]\n",
      "\n",
      "Message_Poly:\n",
      " (1.5+4.440892098500626e-16j) -\n",
      "(4.996003610813204e-16-0.7071067811865479j)·x¹ -\n",
      "(3.4694469519536176e-16-0.5000000000000003j)·x² -\n",
      "(8.326672684688674e-16-0.7071067811865472j)·x³\n",
      "\n",
      "Message_Reconstructed:\n",
      " [0.-1.11022302e-16j 1.-4.71844785e-16j 2.+2.77555756e-17j\n",
      " 3.+2.22044605e-16j]\n",
      "\n",
      "Error:  5.782226546457897e-16\n"
     ]
    }
   ],
   "source": [
    "# First we initialize our encoder\n",
    "encoder = CKKSEncoder(M)\n",
    "\n",
    "b = np.array(list(range(N)))\n",
    "print(\"Message:\\n\", b)\n",
    "p = encoder.sigma_inverse(b)\n",
    "print(\"\\nMessage_Poly:\\n\", p)\n",
    "b_reconstructed = encoder.sigma(p)\n",
    "print(\"\\nMessage_Reconstructed:\\n\", b_reconstructed)\n",
    "print(\"\\nError: \", np.linalg.norm(b_reconstructed - b))"
   ]
  },
  {
   "cell_type": "code",
   "execution_count": 13,
   "metadata": {},
   "outputs": [
    {
     "data": {
      "text/plain": [
       "dtype('complex128')"
      ]
     },
     "execution_count": 13,
     "metadata": {},
     "output_type": "execute_result"
    }
   ],
   "source": [
    "b_reconstructed.dtype"
   ]
  },
  {
   "cell_type": "code",
   "execution_count": 459,
   "metadata": {},
   "outputs": [
    {
     "name": "stdout",
     "output_type": "stream",
     "text": [
      "(64, 64) (64,)\n",
      "(64, 64) (64,)\n"
     ]
    },
    {
     "data": {
      "text/plain": [
       "array([0.000e+00+2.74954301e-13j, 1.000e+00-4.15883237e-12j,\n",
       "       4.000e+00-7.28522041e-12j, 9.000e+00-8.25155853e-12j,\n",
       "       1.600e+01-1.08095124e-11j, 2.500e+01-1.04684519e-11j,\n",
       "       3.600e+01-6.03466519e-12j, 4.900e+01-8.76314930e-12j,\n",
       "       6.400e+01-9.21789665e-12j, 8.100e+01-4.78410998e-12j,\n",
       "       1.000e+02-9.21789665e-12j, 1.210e+02-6.31888229e-12j,\n",
       "       1.440e+02-5.80729152e-12j, 1.690e+02-5.12517049e-12j,\n",
       "       1.960e+02-3.30618109e-12j, 2.250e+02-4.87648053e-12j,\n",
       "       2.560e+02-1.67903822e-12j, 2.890e+02-3.78745016e-13j,\n",
       "       3.240e+02+1.24129242e-12j, 3.610e+02+1.92341345e-12j,\n",
       "       4.000e+02+2.15078712e-12j, 4.410e+02+2.26447396e-12j,\n",
       "       4.840e+02+2.49184764e-12j, 5.290e+02+1.41182268e-12j,\n",
       "       5.760e+02+2.66237789e-12j, 6.250e+02+4.70874097e-12j,\n",
       "       6.760e+02+2.88975157e-12j, 7.290e+02+3.88451140e-12j,\n",
       "       7.840e+02+6.07298303e-12j, 8.410e+02+2.70501046e-12j,\n",
       "       9.000e+02+5.33401858e-12j, 9.610e+02-3.68086875e-13j,\n",
       "       1.024e+03+5.17947553e-12j, 1.089e+03+5.07822320e-12j,\n",
       "       1.156e+03+2.33552824e-12j, 1.225e+03-2.79269033e-13j,\n",
       "       1.296e+03+3.64647958e-12j, 1.369e+03+4.43340566e-12j,\n",
       "       1.444e+03+7.69302046e-12j, 1.521e+03+5.64665738e-12j,\n",
       "       1.600e+03+8.88673226e-12j, 1.681e+03+8.23303294e-12j,\n",
       "       1.764e+03+4.79400610e-12j, 1.849e+03+9.99517893e-12j,\n",
       "       1.936e+03+9.85497037e-13j, 2.025e+03+1.51395083e-11j,\n",
       "       2.116e+03+1.65463830e-11j, 2.209e+03+1.89267011e-11j,\n",
       "       2.304e+03+2.39715545e-11j, 2.401e+03+2.79861210e-11j,\n",
       "       2.500e+03+1.15299512e-11j, 2.601e+03+1.49405564e-11j,\n",
       "       2.704e+03+8.51725004e-12j, 2.809e+03+1.96585601e-11j,\n",
       "       2.916e+03+3.93263831e-11j, 3.025e+03+2.89808808e-11j,\n",
       "       3.136e+03+4.02358778e-11j, 3.249e+03+3.01177492e-11j,\n",
       "       3.364e+03+4.97855721e-11j, 3.481e+03+7.96852104e-11j,\n",
       "       3.600e+03+7.32050607e-11j, 3.721e+03+1.10494343e-10j,\n",
       "       3.844e+03+1.56310139e-10j, 3.969e+03+1.96299484e-10j])"
      ]
     },
     "execution_count": 459,
     "metadata": {},
     "output_type": "execute_result"
    }
   ],
   "source": [
    "b1, b2 = np.arange(N), np.arange(N)\n",
    "p1, p2 = encoder.sigma_inverse(b1), encoder.sigma_inverse(b2)\n",
    "modulo = np.zeros(N+1)\n",
    "modulo[0] = 1; modulo[-1] = 1\n",
    "\n",
    "encoder.sigma(p1 * p2 % modulo)"
   ]
  },
  {
   "cell_type": "code",
   "execution_count": 460,
   "metadata": {},
   "outputs": [
    {
     "data": {
      "text/plain": [
       "array([-842.42253112-1.24820138e+03j, -745.73070861-6.03099511e+02j,\n",
       "       -646.97008121-2.90830746e+02j, -546.77395971-9.41375932e+01j,\n",
       "       -445.77984894+4.13248562e+01j, -344.62330827+1.37368824e+02j,\n",
       "       -243.93183081+2.05003365e+02j, -144.31880029+2.50641897e+02j,\n",
       "        -46.37758388+2.78428784e+02j,   49.32418228+2.91271912e+02j,\n",
       "        142.25005973+2.91357323e+02j,  231.8999739 +2.80428168e+02j,\n",
       "        317.81503005+2.59945573e+02j,  399.58193274+2.31185747e+02j,\n",
       "        476.83696605+1.95300492e+02j,  549.26949637+1.53355649e+02j,\n",
       "        616.624964  +1.06355649e+02j,  678.70733464+5.52590336e+01j,\n",
       "        735.38098738+9.87909301e-01j,  786.57202073-5.55667551e+01j,\n",
       "        832.26896441-1.13542722e+02j,  872.52288973-1.72106117e+02j,\n",
       "        907.44691783-2.30452483e+02j,  937.21513018-2.87808830e+02j,\n",
       "        962.06089216-3.43436338e+02j,  982.27460555-3.96633464e+02j,\n",
       "        998.20091187-4.46739262e+02j, 1010.23537323-4.93136741e+02j,\n",
       "       1018.8206629 -5.35256148e+02j, 1024.4423021 -5.72578042e+02j,\n",
       "       1027.62398417-6.04636093e+02j, 1028.92253112-6.31019496e+02j,\n",
       "       1028.92253112-6.51374964e+02j, 1028.23070861-6.65408208e+02j,\n",
       "       1027.47008121-6.72884878e+02j, 1027.27395971-6.73630903e+02j,\n",
       "       1028.27984894-6.67532197e+02j, 1031.12330827-6.54533688e+02j,\n",
       "       1036.43183081-6.34637636e+02j, 1044.81880029-6.07901208e+02j,\n",
       "       1056.87758388-5.74433262e+02j, 1073.17581772-5.34390292e+02j,\n",
       "       1094.24994027-4.87971487e+02j, 1120.6000261 -4.35412802e+02j,\n",
       "       1152.68496995-3.76979948e+02j, 1190.91806726-3.12960130e+02j,\n",
       "       1235.66303395-2.43652309e+02j, 1287.23050363-1.69355649e+02j,\n",
       "       1345.875036  -9.03556486e+01j, 1411.79266536-6.90721651e+00j,\n",
       "       1485.11901262+8.07864744e+01j, 1565.92797927+1.72601130e+02j,\n",
       "       1654.23103559+2.68527356e+02j, 1749.97711027+3.68720280e+02j,\n",
       "       1853.05308217+4.73570863e+02j, 1963.28486982+5.83813307e+02j,\n",
       "       2080.43910784+7.00695649e+02j, 2204.22539444+8.26267735e+02j,\n",
       "       2334.29908813+9.63904126e+02j, 2470.26462677+1.11934408e+03j,\n",
       "       2611.6793371 +1.30302464e+03j, 2758.0576979 +1.53629367e+03j,\n",
       "       2908.87601583+1.87314381e+03j, 3063.57746888+2.53059584e+03j])"
      ]
     },
     "execution_count": 460,
     "metadata": {},
     "output_type": "execute_result"
    }
   ],
   "source": [
    "encoder.sigma(\n",
    "    Polynomial(np.polydiv(np.polymul(p1.coef, p2.coef), modulo)[0])\n",
    "    )"
   ]
  },
  {
   "cell_type": "markdown",
   "metadata": {},
   "source": [
    "# CKKS with Jax"
   ]
  },
  {
   "cell_type": "code",
   "execution_count": 1,
   "metadata": {},
   "outputs": [
    {
     "data": {
      "text/plain": [
       "DeviceArray(0.70710677+0.7071068j, dtype=complex64, weak_type=True)"
      ]
     },
     "execution_count": 1,
     "metadata": {},
     "output_type": "execute_result"
    }
   ],
   "source": [
    "import os\n",
    "os.environ[\"CUDA_VISIBLE_DEVICES\"]=\"1\"\n",
    "\n",
    "import numpy as np\n",
    "import jax\n",
    "import jax.numpy as jnp\n",
    "from jax import device_put\n",
    "from jax import grad, jit, vmap\n",
    "from jax.lax import scan\n",
    "\n",
    "# First we set the parameters\n",
    "M = 8\n",
    "N = M //2\n",
    "\n",
    "# We set xi, which will be used in our computations\n",
    "xi = jnp.exp(2 * jnp.pi * 1j / M)\n",
    "xi"
   ]
  },
  {
   "cell_type": "code",
   "execution_count": 2,
   "metadata": {},
   "outputs": [],
   "source": [
    "from functools import partial\n",
    "\n",
    "class CKKSEncoder:\n",
    "    \n",
    "    def __init__(self, M: int):\n",
    "        \"\"\"Initialization of the encoder for M a power of 2. \n",
    "        \n",
    "        xi, which is an M-th root of unity will, be used as a basis for our computations.\n",
    "        \"\"\"\n",
    "        self.xi = jnp.exp(2 * jnp.pi * 1j / M)\n",
    "        self.M = M\n",
    "        \n",
    "    @partial(jit, static_argnums=(0,))\n",
    "    def sigma_inverse(self, b: jnp.array) -> jnp.array:\n",
    "        \"\"\"Encodes the vector b in a polynomial using an M-th root of unity.\"\"\"\n",
    "\n",
    "        N = M // 2\n",
    "        root = self.xi\n",
    "        roots = jnp.power(root, 2 * jnp.arange(N) + 1)\n",
    "        A = jnp.vander(roots, N)\n",
    "\n",
    "        # Then we solve the system\n",
    "        coeffs = jnp.linalg.solve(A, b)\n",
    "\n",
    "        # Finally we output the polynomial\n",
    "        return coeffs\n",
    "\n",
    "    @partial(jit, static_argnums=(0,))\n",
    "    def sigma(self, p: jnp.array) -> jnp.array:\n",
    "        \"\"\"Decodes a polynomial by applying it to the M-th roots of unity.\"\"\"\n",
    "        N = self.M //2\n",
    "        roots = jnp.power(self.xi, 2 * jnp.arange(N) + 1)\n",
    "        _, outputs = scan(\n",
    "            lambda _, r: (None, jnp.polyval(p, r))\n",
    "            , None, roots)\n",
    "        return outputs"
   ]
  },
  {
   "cell_type": "markdown",
   "metadata": {},
   "source": [
    "## Encoding&Decoding"
   ]
  },
  {
   "cell_type": "code",
   "execution_count": 3,
   "metadata": {},
   "outputs": [
    {
     "name": "stdout",
     "output_type": "stream",
     "text": [
      "Message:\n",
      " [0 1 2 3]\n",
      "\n",
      "Message_Reconstructed:\n",
      " [0.       +1.63912730e-07j 1.0000002+2.68220845e-07j\n",
      " 2.       +1.49011186e-08j 2.9999995+1.04308086e-07j]\n",
      "\n",
      "Error:  6.27797e-07\n"
     ]
    }
   ],
   "source": [
    "# First we initialize our encoder\n",
    "encoder = CKKSEncoder(M)\n",
    "\n",
    "b = jnp.array(list(range(N)))\n",
    "print(\"Message:\\n\", b)\n",
    "p = encoder.sigma_inverse(b)\n",
    "# print(\"\\nMessage_Poly:\\n\", p)\n",
    "b_reconstructed = encoder.sigma(p)\n",
    "print(\"\\nMessage_Reconstructed:\\n\", b_reconstructed)\n",
    "print(\"\\nError: \", jnp.linalg.norm(b_reconstructed - b))"
   ]
  },
  {
   "cell_type": "markdown",
   "metadata": {},
   "source": [
    "## Multiplications"
   ]
  },
  {
   "cell_type": "code",
   "execution_count": 4,
   "metadata": {},
   "outputs": [],
   "source": [
    "b1, b2 = jnp.arange(1, N+1), jnp.arange(1, N+1)\n",
    "p1, p2 = encoder.sigma_inverse(b1), encoder.sigma_inverse(b2)"
   ]
  },
  {
   "cell_type": "code",
   "execution_count": 5,
   "metadata": {},
   "outputs": [
    {
     "data": {
      "text/plain": [
       "(DeviceArray([1, 2, 3, 4], dtype=int32),\n",
       " DeviceArray([1, 2, 3, 4], dtype=int32))"
      ]
     },
     "execution_count": 5,
     "metadata": {},
     "output_type": "execute_result"
    }
   ],
   "source": [
    "b1, b2"
   ]
  },
  {
   "cell_type": "code",
   "execution_count": 6,
   "metadata": {},
   "outputs": [
    {
     "data": {
      "text/plain": [
       "DeviceArray([ 1.0000005-2.0735706e-07j,  4.000001 +5.0789868e-07j,\n",
       "              9.       -1.3398453e-06j, 15.999994 -2.5915429e-06j],            dtype=complex64)"
      ]
     },
     "execution_count": 6,
     "metadata": {},
     "output_type": "execute_result"
    }
   ],
   "source": [
    "# encoder.sigma()\n",
    "pp = jnp.polymul(p1, p2)\n",
    "modulo = jnp.zeros(N+1)\n",
    "modulo = modulo.at[0].set(1)\n",
    "modulo = modulo.at[-1].set(1)\n",
    "_, r = jnp.polydiv(pp, modulo)\n",
    "encoder.sigma(r)    "
   ]
  },
  {
   "cell_type": "code",
   "execution_count": 7,
   "metadata": {},
   "outputs": [
    {
     "data": {
      "text/plain": [
       "DeviceArray([ 1,  4,  9, 16], dtype=int32)"
      ]
     },
     "execution_count": 7,
     "metadata": {},
     "output_type": "execute_result"
    }
   ],
   "source": [
    "b1*b2"
   ]
  },
  {
   "cell_type": "markdown",
   "metadata": {},
   "source": [
    "# Performance - Jax vs NumPy"
   ]
  },
  {
   "cell_type": "markdown",
   "metadata": {},
   "source": [
    "## Polymul"
   ]
  },
  {
   "cell_type": "markdown",
   "metadata": {},
   "source": [
    "### Result Test"
   ]
  },
  {
   "cell_type": "code",
   "execution_count": 398,
   "metadata": {},
   "outputs": [],
   "source": [
    "N = 4096\n",
    "modulo = np.zeros(N+1); modulo[0] = 1; modulo[-1] = 1\n",
    "p2 = np.random.rand(N)\n",
    "p1 = device_put(p2)"
   ]
  },
  {
   "cell_type": "code",
   "execution_count": 391,
   "metadata": {},
   "outputs": [
    {
     "name": "stdout",
     "output_type": "stream",
     "text": [
      "652 µs ± 124 µs per loop (mean ± std. dev. of 7 runs, 1,000 loops each)\n"
     ]
    }
   ],
   "source": [
    "%timeit pp1 = jnp.polymul(p1, p1) # .block_until_ready()"
   ]
  },
  {
   "cell_type": "code",
   "execution_count": 392,
   "metadata": {},
   "outputs": [
    {
     "name": "stdout",
     "output_type": "stream",
     "text": [
      "3.44 ms ± 353 ns per loop (mean ± std. dev. of 7 runs, 100 loops each)\n"
     ]
    }
   ],
   "source": [
    "%timeit pp2 = np.polymul(p2, p2)"
   ]
  },
  {
   "cell_type": "code",
   "execution_count": 477,
   "metadata": {},
   "outputs": [],
   "source": [
    "pp1 = jnp.polymul(p1, p1)\n",
    "pp2 = np.polymul(p2, p2)"
   ]
  },
  {
   "cell_type": "code",
   "execution_count": 478,
   "metadata": {},
   "outputs": [
    {
     "data": {
      "text/plain": [
       "(DeviceArray([-1.03861481e+02-6.4343917e-03j,\n",
       "              -1.03986572e+02-3.7704463e-04j,\n",
       "              -9.54910965e+01+2.4767614e-03j,\n",
       "              -8.70177460e+01+4.1205338e-03j,\n",
       "              -7.97153549e+01+5.0234604e-03j,\n",
       "              -7.35813370e+01+5.7864068e-03j,\n",
       "              -6.84279709e+01+5.9999418e-03j,\n",
       "              -6.40705872e+01+6.1287032e-03j,\n",
       "              -6.03543930e+01+6.5655857e-03j,\n",
       "              -5.71610069e+01+6.2806401e-03j,\n",
       "              -5.43963242e+01+6.2824506e-03j,\n",
       "              -5.19885483e+01+6.6246684e-03j,\n",
       "              -4.98800316e+01+6.6925110e-03j,\n",
       "              -4.80270462e+01+6.7446260e-03j,\n",
       "              -4.63928223e+01+6.7938929e-03j,\n",
       "              -4.49486084e+01+6.9023184e-03j,\n",
       "              -4.36706390e+01+6.6472217e-03j,\n",
       "              -4.25398407e+01+6.7230482e-03j,\n",
       "              -4.15399132e+01+6.2594768e-03j,\n",
       "              -4.06574516e+01+6.3963202e-03j,\n",
       "              -3.98820076e+01+6.6454317e-03j,\n",
       "              -3.92040215e+01+6.5291319e-03j,\n",
       "              -3.86155701e+01+6.4610485e-03j,\n",
       "              -3.81112556e+01+6.3758977e-03j,\n",
       "              -3.76847763e+01+6.4234119e-03j,\n",
       "              -3.73323784e+01+6.2652910e-03j,\n",
       "              -3.70512161e+01+5.5633532e-03j,\n",
       "              -3.68379784e+01+5.6830198e-03j,\n",
       "              -3.66898003e+01+6.4173406e-03j,\n",
       "              -3.66066399e+01+6.5272227e-03j,\n",
       "              -3.65867004e+01+6.7982781e-03j,\n",
       "              -3.66308937e+01+6.7828838e-03j,\n",
       "              -3.67389069e+01+6.8218727e-03j,\n",
       "              -3.69122162e+01+6.8009039e-03j,\n",
       "              -3.71523361e+01+6.7434362e-03j,\n",
       "              -3.74616013e+01+6.8546627e-03j,\n",
       "              -3.78430176e+01+6.9973636e-03j,\n",
       "              -3.83010521e+01+7.0555066e-03j,\n",
       "              -3.88398323e+01+7.4734362e-03j,\n",
       "              -3.94648895e+01+7.6908907e-03j,\n",
       "              -4.01839485e+01+7.7493135e-03j,\n",
       "              -4.10057335e+01+7.8194384e-03j,\n",
       "              -4.19399605e+01+7.9983342e-03j,\n",
       "              -4.29997978e+01+8.3620790e-03j,\n",
       "              -4.41994247e+01+8.4700668e-03j,\n",
       "              -4.55579643e+01+8.6725000e-03j,\n",
       "              -4.70970879e+01+8.6098500e-03j,\n",
       "              -4.88455086e+01+8.7223295e-03j,\n",
       "              -5.08372688e+01+8.8847913e-03j,\n",
       "              -5.31165428e+01+9.1587501e-03j,\n",
       "              -5.57396088e+01+9.8084817e-03j,\n",
       "              -5.87794838e+01+1.0250570e-02j,\n",
       "              -6.23341675e+01+1.0782563e-02j,\n",
       "              -6.65379562e+01+1.1089949e-02j,\n",
       "              -7.15765915e+01+1.1344958e-02j,\n",
       "              -7.77229843e+01+1.2003238e-02j,\n",
       "              -8.53864136e+01+1.2637125e-02j,\n",
       "              -9.52255554e+01+1.3509074e-02j,\n",
       "              -1.08367020e+02+1.4607616e-02j,\n",
       "              -1.26949867e+02+1.5823327e-02j,\n",
       "              -1.55647934e+02+1.7420743e-02j,\n",
       "              -2.07447556e+02+1.8943457e-02j,\n",
       "              -3.41291077e+02+2.0345125e-02j,\n",
       "              -2.07466278e+02+6.4208484e+02j,\n",
       "              -1.55637512e+02+3.2143823e+02j,\n",
       "              -1.26937836e+02+2.1472607e+02j,\n",
       "              -1.08355537e+02+1.6150201e+02j,\n",
       "              -9.52139053e+01+1.2967343e+02j,\n",
       "              -8.53745575e+01+1.0854350e+02j,\n",
       "              -7.77126999e+01+9.3526581e+01j,\n",
       "              -7.15671234e+01+8.2337540e+01j,\n",
       "              -6.65279541e+01+7.3694992e+01j,\n",
       "              -6.23261414e+01+6.6843506e+01j,\n",
       "              -5.87709808e+01+6.1291245e+01j,\n",
       "              -5.57296219e+01+5.6717426e+01j,\n",
       "              -5.31074600e+01+5.2895355e+01j,\n",
       "              -5.08282928e+01+4.9670300e+01j,\n",
       "              -4.88365707e+01+4.6921223e+01j,\n",
       "              -4.70881119e+01+4.4562302e+01j,\n",
       "              -4.55498047e+01+4.2526775e+01j,\n",
       "              -4.41907043e+01+4.0763367e+01j,\n",
       "              -4.29922028e+01+3.9231186e+01j,\n",
       "              -4.19316101e+01+3.7897041e+01j,\n",
       "              -4.09964218e+01+3.6737152e+01j,\n",
       "              -4.01753082e+01+3.5729263e+01j,\n",
       "              -3.94565353e+01+3.4855888e+01j,\n",
       "              -3.88311691e+01+3.4106762e+01j,\n",
       "              -3.82925491e+01+3.3465714e+01j,\n",
       "              -3.78360481e+01+3.2926895e+01j,\n",
       "              -3.74565048e+01+3.2485161e+01j,\n",
       "              -3.71451454e+01+3.2130558e+01j,\n",
       "              -3.69028320e+01+3.1855946e+01j,\n",
       "              -3.67298546e+01+3.1664524e+01j,\n",
       "              -3.66213226e+01+3.1548317e+01j,\n",
       "              -3.65776024e+01+3.1511066e+01j,\n",
       "              -3.65971794e+01+3.1548309e+01j,\n",
       "              -3.66806793e+01+3.1662914e+01j,\n",
       "              -3.68287277e+01+3.1855301e+01j,\n",
       "              -3.70420647e+01+3.2127762e+01j,\n",
       "              -3.73236923e+01+3.2483574e+01j,\n",
       "              -3.76757050e+01+3.2929443e+01j,\n",
       "              -3.81002312e+01+3.3467663e+01j,\n",
       "              -3.86046295e+01+3.4105827e+01j,\n",
       "              -3.91929626e+01+3.4855759e+01j,\n",
       "              -3.98705826e+01+3.5728447e+01j,\n",
       "              -4.06457214e+01+3.6735210e+01j,\n",
       "              -4.15266724e+01+3.7895870e+01j,\n",
       "              -4.25268288e+01+3.9227844e+01j,\n",
       "              -4.36569710e+01+4.0760414e+01j,\n",
       "              -4.49354897e+01+4.2522587e+01j,\n",
       "              -4.63790550e+01+4.4558571e+01j,\n",
       "              -4.80126762e+01+4.6916847e+01j,\n",
       "              -4.98649139e+01+4.9665600e+01j,\n",
       "              -5.19707565e+01+5.2891453e+01j,\n",
       "              -5.43778877e+01+5.6710232e+01j,\n",
       "              -5.71417351e+01+6.1282398e+01j,\n",
       "              -6.03347549e+01+6.6835114e+01j,\n",
       "              -6.40502319e+01+7.3686440e+01j,\n",
       "              -6.84051208e+01+8.2327919e+01j,\n",
       "              -7.35561371e+01+9.3515800e+01j,\n",
       "              -7.96868439e+01+1.0852954e+02j,\n",
       "              -8.69864578e+01+1.2965326e+02j,\n",
       "              -9.54553909e+01+1.6147978e+02j,\n",
       "              -1.03945900e+02+2.1469290e+02j,\n",
       "              -1.03817856e+02+3.2138806e+02j,\n",
       "               2.53295898e-02+6.4198389e+02j,\n",
       "               9.92290405e+02-6.7138672e-04j], dtype=complex64),\n",
       " array([-1.0386147e+02-6.4343917e-03j, -1.0398657e+02-3.7704458e-04j,\n",
       "        -9.5491096e+01+2.4767611e-03j, -8.7017746e+01+4.1205338e-03j,\n",
       "        -7.9715347e+01+5.0234604e-03j, -7.3581337e+01+5.7864073e-03j,\n",
       "        -6.8427971e+01+5.9999423e-03j, -6.4070587e+01+6.1287032e-03j,\n",
       "        -6.0354393e+01+6.5655862e-03j, -5.7161003e+01+6.2806401e-03j,\n",
       "        -5.4396324e+01+6.2824506e-03j, -5.1988544e+01+6.6246688e-03j,\n",
       "        -4.9880032e+01+6.6925101e-03j, -4.8027046e+01+6.7446260e-03j,\n",
       "        -4.6392822e+01+6.7938929e-03j, -4.4948605e+01+6.9023184e-03j,\n",
       "        -4.3670639e+01+6.6472208e-03j, -4.2539841e+01+6.7230482e-03j,\n",
       "        -4.1539909e+01+6.2594768e-03j, -4.0657452e+01+6.3963206e-03j,\n",
       "        -3.9882008e+01+6.6454322e-03j, -3.9204025e+01+6.5291319e-03j,\n",
       "        -3.8615566e+01+6.4610494e-03j, -3.8111252e+01+6.3758977e-03j,\n",
       "        -3.7684772e+01+6.4234110e-03j, -3.7332375e+01+6.2652910e-03j,\n",
       "        -3.7051216e+01+5.5633523e-03j, -3.6837978e+01+5.6830198e-03j,\n",
       "        -3.6689796e+01+6.4173415e-03j, -3.6606640e+01+6.5272227e-03j,\n",
       "        -3.6586700e+01+6.7982785e-03j, -3.6630894e+01+6.7828842e-03j,\n",
       "        -3.6738911e+01+6.8218722e-03j, -3.6912220e+01+6.8009039e-03j,\n",
       "        -3.7152340e+01+6.7434362e-03j, -3.7461601e+01+6.8546631e-03j,\n",
       "        -3.7843014e+01+6.9973636e-03j, -3.8301052e+01+7.0555061e-03j,\n",
       "        -3.8839840e+01+7.4734366e-03j, -3.9464893e+01+7.6908907e-03j,\n",
       "        -4.0183941e+01+7.7493135e-03j, -4.1005733e+01+7.8194384e-03j,\n",
       "        -4.1939960e+01+7.9983342e-03j, -4.2999805e+01+8.3620790e-03j,\n",
       "        -4.4199425e+01+8.4700659e-03j, -4.5557964e+01+8.6725000e-03j,\n",
       "        -4.7097084e+01+8.6098500e-03j, -4.8845497e+01+8.7223295e-03j,\n",
       "        -5.0837276e+01+8.8847913e-03j, -5.3116547e+01+9.1587491e-03j,\n",
       "        -5.5739616e+01+9.8084789e-03j, -5.8779503e+01+1.0250571e-02j,\n",
       "        -6.2334160e+01+1.0782563e-02j, -6.6537964e+01+1.1089949e-02j,\n",
       "        -7.1576607e+01+1.1344957e-02j, -7.7722992e+01+1.2003237e-02j,\n",
       "        -8.5386421e+01+1.2637125e-02j, -9.5225563e+01+1.3509074e-02j,\n",
       "        -1.0836703e+02+1.4607616e-02j, -1.2694988e+02+1.5823327e-02j,\n",
       "        -1.5564793e+02+1.7420746e-02j, -2.0744762e+02+1.8943459e-02j,\n",
       "        -3.4129108e+02+2.0345123e-02j, -2.0746629e+02+6.4208484e+02j,\n",
       "        -1.5563757e+02+3.2143820e+02j, -1.2693786e+02+2.1472607e+02j,\n",
       "        -1.0835552e+02+1.6150201e+02j, -9.5213928e+01+1.2967343e+02j,\n",
       "        -8.5374596e+01+1.0854349e+02j, -7.7712639e+01+9.3526604e+01j,\n",
       "        -7.1567116e+01+8.2337555e+01j, -6.6527939e+01+7.3694992e+01j,\n",
       "        -6.2326176e+01+6.6843491e+01j, -5.8770981e+01+6.1291245e+01j,\n",
       "        -5.5729603e+01+5.6717430e+01j, -5.3107452e+01+5.2895359e+01j,\n",
       "        -5.0828297e+01+4.9670303e+01j, -4.8836582e+01+4.6921219e+01j,\n",
       "        -4.7088116e+01+4.4562294e+01j, -4.5549801e+01+4.2526775e+01j,\n",
       "        -4.4190708e+01+4.0763367e+01j, -4.2992199e+01+3.9231186e+01j,\n",
       "        -4.1931599e+01+3.7897041e+01j, -4.0996433e+01+3.6737152e+01j,\n",
       "        -4.0175312e+01+3.5729267e+01j, -3.9456528e+01+3.4855885e+01j,\n",
       "        -3.8831181e+01+3.4106766e+01j, -3.8292549e+01+3.3465714e+01j,\n",
       "        -3.7836037e+01+3.2926895e+01j, -3.7456486e+01+3.2485165e+01j,\n",
       "        -3.7145153e+01+3.2130562e+01j, -3.6902836e+01+3.1855947e+01j,\n",
       "        -3.6729843e+01+3.1664526e+01j, -3.6621319e+01+3.1548313e+01j,\n",
       "        -3.6577602e+01+3.1511063e+01j, -3.6597179e+01+3.1548309e+01j,\n",
       "        -3.6680687e+01+3.1662912e+01j, -3.6828724e+01+3.1855301e+01j,\n",
       "        -3.7042068e+01+3.2127762e+01j, -3.7323696e+01+3.2483574e+01j,\n",
       "        -3.7675709e+01+3.2929443e+01j, -3.8100231e+01+3.3467659e+01j,\n",
       "        -3.8604622e+01+3.4105820e+01j, -3.9192963e+01+3.4855759e+01j,\n",
       "        -3.9870579e+01+3.5728439e+01j, -4.0645725e+01+3.6735214e+01j,\n",
       "        -4.1526665e+01+3.7895870e+01j, -4.2526836e+01+3.9227840e+01j,\n",
       "        -4.3656971e+01+4.0760418e+01j, -4.4935493e+01+4.2522583e+01j,\n",
       "        -4.6379055e+01+4.4558571e+01j, -4.8012684e+01+4.6916843e+01j,\n",
       "        -4.9864918e+01+4.9665604e+01j, -5.1970753e+01+5.2891453e+01j,\n",
       "        -5.4377880e+01+5.6710232e+01j, -5.7141743e+01+6.1282398e+01j,\n",
       "        -6.0334747e+01+6.6835106e+01j, -6.4050232e+01+7.3686440e+01j,\n",
       "        -6.8405121e+01+8.2327919e+01j, -7.3556137e+01+9.3515800e+01j,\n",
       "        -7.9686829e+01+1.0852954e+02j, -8.6986450e+01+1.2965327e+02j,\n",
       "        -9.5455391e+01+1.6147978e+02j, -1.0394589e+02+2.1469290e+02j,\n",
       "        -1.0381787e+02+3.2138806e+02j,  2.5329247e-02+6.4198389e+02j,\n",
       "         9.9229041e+02-7.5573515e-04j], dtype=complex64))"
      ]
     },
     "execution_count": 478,
     "metadata": {},
     "output_type": "execute_result"
    }
   ],
   "source": [
    "pp1, pp2"
   ]
  },
  {
   "cell_type": "markdown",
   "metadata": {},
   "source": [
    "### Speed Test"
   ]
  },
  {
   "cell_type": "code",
   "execution_count": 38,
   "metadata": {},
   "outputs": [],
   "source": [
    "N = 4096\n",
    "M = 100\n",
    "P1 = [jax.random.uniform(jax.random.PRNGKey(1), (N,)).astype(jnp.complex64) for _ in range(M)]\n",
    "P2 = [np.random.rand(N).astype(np.complex64) for _ in range(M)]\n",
    "\n",
    "@jit\n",
    "def polymul_many_times_gpu():\n",
    "    return [jnp.polymul(p, p) for p in P1]\n",
    "\n",
    "def polymul_many_times_cpu():\n",
    "    return [np.polymul(p, p) for p in P2]"
   ]
  },
  {
   "cell_type": "code",
   "execution_count": 39,
   "metadata": {},
   "outputs": [
    {
     "name": "stdout",
     "output_type": "stream",
     "text": [
      "845 µs ± 34.6 µs per loop (mean ± std. dev. of 7 runs, 1 loop each)\n"
     ]
    }
   ],
   "source": [
    "%timeit jax.block_until_ready(polymul_many_times_gpu())"
   ]
  },
  {
   "cell_type": "code",
   "execution_count": 40,
   "metadata": {},
   "outputs": [
    {
     "name": "stdout",
     "output_type": "stream",
     "text": [
      "314 ms ± 523 µs per loop (mean ± std. dev. of 7 runs, 1 loop each)\n"
     ]
    }
   ],
   "source": [
    "%timeit polymul_many_times_cpu()"
   ]
  },
  {
   "cell_type": "code",
   "execution_count": 45,
   "metadata": {},
   "outputs": [
    {
     "name": "stdout",
     "output_type": "stream",
     "text": [
      "CPU times: user 489 ms, sys: 11.7 ms, total: 501 ms\n",
      "Wall time: 824 ms\n"
     ]
    }
   ],
   "source": [
    "%time for _ in range(1000): polymul_many_times_gpu()"
   ]
  },
  {
   "cell_type": "code",
   "execution_count": 50,
   "metadata": {},
   "outputs": [
    {
     "name": "stdout",
     "output_type": "stream",
     "text": [
      "CPU times: user 943 ms, sys: 0 ns, total: 943 ms\n",
      "Wall time: 942 ms\n"
     ]
    }
   ],
   "source": [
    "%time for _ in range(3): polymul_many_times_cpu()"
   ]
  },
  {
   "cell_type": "markdown",
   "metadata": {},
   "source": [
    "## Polyval"
   ]
  },
  {
   "cell_type": "code",
   "execution_count": 11,
   "metadata": {},
   "outputs": [
    {
     "data": {
      "text/plain": [
       "DeviceArray(3, dtype=int32)"
      ]
     },
     "execution_count": 11,
     "metadata": {},
     "output_type": "execute_result"
    }
   ],
   "source": [
    "jnp.array([1,2]).sum().block_until_ready()"
   ]
  },
  {
   "cell_type": "code",
   "execution_count": 26,
   "metadata": {},
   "outputs": [],
   "source": [
    "N = 4096\n",
    "M = 1000\n",
    "R1 = [jax.random.uniform(jax.random.PRNGKey(1), (N,)).astype(jnp.complex64) for _ in range(M)]\n",
    "R2 = [np.random.rand(N).astype(np.complex64) for _ in range(M)]\n",
    "\n",
    "@jit\n",
    "def polyval_gpu():\n",
    "    return [jnp.polyval(r, xi) for r in R1]\n",
    "\n",
    "def polyval_cpu():\n",
    "    return [np.polyval(r, xi) for r in R2]"
   ]
  },
  {
   "cell_type": "code",
   "execution_count": 29,
   "metadata": {},
   "outputs": [
    {
     "name": "stdout",
     "output_type": "stream",
     "text": [
      "11.6 ms ± 5.41 ms per loop (mean ± std. dev. of 7 runs, 10 loops each)\n"
     ]
    }
   ],
   "source": [
    "%timeit jax.block_until_ready(polyval_gpu())"
   ]
  },
  {
   "cell_type": "code",
   "execution_count": 30,
   "metadata": {},
   "outputs": [
    {
     "name": "stdout",
     "output_type": "stream",
     "text": [
      "742 ms ± 2.85 ms per loop (mean ± std. dev. of 7 runs, 1 loop each)\n"
     ]
    }
   ],
   "source": [
    "%timeit polyval_cpu()"
   ]
  },
  {
   "cell_type": "code",
   "execution_count": 23,
   "metadata": {},
   "outputs": [
    {
     "data": {
      "text/plain": [
       "DeviceArray(11.716381+16.771471j, dtype=complex64)"
      ]
     },
     "execution_count": 23,
     "metadata": {},
     "output_type": "execute_result"
    }
   ],
   "source": [
    "polyval_gpu()[0]"
   ]
  },
  {
   "cell_type": "code",
   "execution_count": 25,
   "metadata": {},
   "outputs": [
    {
     "data": {
      "text/plain": [
       "dtype('complex64')"
      ]
     },
     "execution_count": 25,
     "metadata": {},
     "output_type": "execute_result"
    }
   ],
   "source": [
    "polyval_cpu()[0].dtype"
   ]
  },
  {
   "cell_type": "markdown",
   "metadata": {},
   "source": [
    "## Misc"
   ]
  },
  {
   "cell_type": "code",
   "execution_count": 51,
   "metadata": {},
   "outputs": [
    {
     "data": {
      "text/plain": [
       "DeviceArray([3], dtype=int32)"
      ]
     },
     "execution_count": 51,
     "metadata": {},
     "output_type": "execute_result"
    }
   ],
   "source": [
    "x = jnp.array([1,2,3])\n",
    "x[2:]"
   ]
  }
 ],
 "metadata": {
  "interpreter": {
   "hash": "cf8934f4a6d3b9684e2485c6bd5e1b906b167532c92da3f2906f8e5936170076"
  },
  "kernelspec": {
   "display_name": "Python 3.8.0 ('jax')",
   "language": "python",
   "name": "python3"
  },
  "language_info": {
   "codemirror_mode": {
    "name": "ipython",
    "version": 3
   },
   "file_extension": ".py",
   "mimetype": "text/x-python",
   "name": "python",
   "nbconvert_exporter": "python",
   "pygments_lexer": "ipython3",
   "version": "3.8.0"
  },
  "orig_nbformat": 4
 },
 "nbformat": 4,
 "nbformat_minor": 2
}
