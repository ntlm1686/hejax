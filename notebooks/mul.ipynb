{
 "cells": [
  {
   "cell_type": "code",
   "execution_count": 13,
   "metadata": {},
   "outputs": [],
   "source": [
    "import jax.numpy as jnp\n",
    "from ckks.encryptor import Encryptor\n",
    "from ckks.encoder import Encoder\n",
    "from ckks.utils import get_modulo"
   ]
  },
  {
   "cell_type": "code",
   "execution_count": 62,
   "metadata": {},
   "outputs": [],
   "source": [
    "M = 32\n",
    "scale = 2**10"
   ]
  },
  {
   "cell_type": "code",
   "execution_count": 63,
   "metadata": {},
   "outputs": [],
   "source": [
    "message = jnp.array([777,666,555,444,333,222,111,0])\n",
    "encoder = Encoder(M, scale, 0)\n",
    "encryptor = Encryptor(13, M, 256, seed=0)"
   ]
  },
  {
   "cell_type": "code",
   "execution_count": 64,
   "metadata": {},
   "outputs": [],
   "source": [
    "code = encoder.encode(message)"
   ]
  },
  {
   "cell_type": "code",
   "execution_count": 65,
   "metadata": {},
   "outputs": [
    {
     "data": {
      "text/plain": [
       "DeviceArray([777, 666, 555, 444, 333, 222, 111,   0], dtype=int32)"
      ]
     },
     "execution_count": 65,
     "metadata": {},
     "output_type": "execute_result"
    }
   ],
   "source": [
    "jnp.around(encoder.decode(code)).astype(int)"
   ]
  },
  {
   "cell_type": "code",
   "execution_count": 66,
   "metadata": {},
   "outputs": [],
   "source": [
    "cipher = encryptor.encrypt(code)\n",
    "# cipher"
   ]
  },
  {
   "cell_type": "code",
   "execution_count": 67,
   "metadata": {},
   "outputs": [],
   "source": [
    "unencrypted = encryptor.decrypt(cipher)\n",
    "# encoder.decode(unencrypted)"
   ]
  },
  {
   "cell_type": "code",
   "execution_count": 68,
   "metadata": {},
   "outputs": [
    {
     "data": {
      "text/plain": [
       "DeviceArray([777, 666, 555, 444, 333, 222, 111,   0], dtype=int32)"
      ]
     },
     "execution_count": 68,
     "metadata": {},
     "output_type": "execute_result"
    }
   ],
   "source": [
    "jnp.around(encoder.decode(unencrypted.astype(int))).astype(int)"
   ]
  },
  {
   "cell_type": "code",
   "execution_count": 69,
   "metadata": {},
   "outputs": [
    {
     "data": {
      "text/plain": [
       "(DeviceArray([111, 222, 333, 444, 555, 666, 777, 888], dtype=int32),\n",
       " DeviceArray([999, 888, 777, 666, 555, 444, 333, 222], dtype=int32))"
      ]
     },
     "execution_count": 69,
     "metadata": {},
     "output_type": "execute_result"
    }
   ],
   "source": [
    "m1 = jnp.arange(111,999,111)\n",
    "m2 = jnp.arange(999,111,-111)\n",
    "m1, m2"
   ]
  },
  {
   "cell_type": "code",
   "execution_count": 70,
   "metadata": {},
   "outputs": [
    {
     "data": {
      "text/plain": [
       "(DeviceArray([1, 2, 3, 4, 5, 6, 7, 8], dtype=int32),\n",
       " DeviceArray([9, 8, 7, 6, 5, 4, 3, 2], dtype=int32))"
      ]
     },
     "execution_count": 70,
     "metadata": {},
     "output_type": "execute_result"
    }
   ],
   "source": [
    "m1 = jnp.arange(1, 9, 1)\n",
    "m2 = jnp.arange(9, 1,-1)\n",
    "m1, m2"
   ]
  },
  {
   "cell_type": "code",
   "execution_count": 71,
   "metadata": {},
   "outputs": [],
   "source": [
    "e1, e2 = encoder.encode(m1), encoder.encode(m2)"
   ]
  },
  {
   "cell_type": "code",
   "execution_count": 72,
   "metadata": {},
   "outputs": [],
   "source": [
    "c1, c2 = encryptor.encrypt(e1), encryptor.encrypt(e2)\n",
    "# c1, c2 = Cipher(c1, modulo=encryptor.modulo), Cipher(c2, modulo=encryptor.modulo)"
   ]
  },
  {
   "cell_type": "code",
   "execution_count": 74,
   "metadata": {},
   "outputs": [
    {
     "data": {
      "text/plain": [
       "(DeviceArray([1.000067 +0.00100189j, 1.9995699+0.00072992j,\n",
       "              2.9988773-0.00014907j, 3.999386 +0.00149509j,\n",
       "              5.000607 +0.00149519j, 6.0011153-0.00014973j,\n",
       "              7.0004206+0.00073349j, 7.9999185+0.00100619j],            dtype=complex64),\n",
       " DeviceArray([8.998018 +0.0010035j , 7.998806 +0.00073636j,\n",
       "              7.0000377-0.00014234j, 6.0002327+0.00150545j,\n",
       "              4.999774 +0.00150531j, 3.9999697-0.00014192j,\n",
       "              3.0012035+0.00073266j, 2.0019972+0.00099885j],            dtype=complex64))"
      ]
     },
     "execution_count": 74,
     "metadata": {},
     "output_type": "execute_result"
    }
   ],
   "source": [
    "encoder.decode(encryptor.decrypt(c1).astype(int)[-16:]), \\\n",
    "encoder.decode(encryptor.decrypt(c2).astype(int)[-16:])"
   ]
  },
  {
   "cell_type": "code",
   "execution_count": 32,
   "metadata": {},
   "outputs": [],
   "source": [
    "def cipheradd(cipher1, cipher2, modulo):\n",
    "    return [\n",
    "        jnp.polydiv(jnp.polyadd(cipher1[0],cipher2[0]), modulo)[1],\n",
    "        jnp.polydiv(jnp.polyadd(cipher1[1],cipher2[1]), modulo)[1],\n",
    "    ]"
   ]
  },
  {
   "cell_type": "code",
   "execution_count": 33,
   "metadata": {},
   "outputs": [],
   "source": [
    "raw_cipher = cipheradd(c1, c2, encryptor.modulo)"
   ]
  },
  {
   "cell_type": "code",
   "execution_count": 34,
   "metadata": {},
   "outputs": [
    {
     "data": {
      "text/plain": [
       "DeviceArray([10, 10, 10, 10, 10, 10, 10, 10], dtype=int32)"
      ]
     },
     "execution_count": 34,
     "metadata": {},
     "output_type": "execute_result"
    }
   ],
   "source": [
    "m1 + m2"
   ]
  },
  {
   "cell_type": "code",
   "execution_count": 35,
   "metadata": {},
   "outputs": [
    {
     "data": {
      "text/plain": [
       "DeviceArray([ 9,  9,  9,  9, 10, 10, 10, 10], dtype=int32)"
      ]
     },
     "execution_count": 35,
     "metadata": {},
     "output_type": "execute_result"
    }
   ],
   "source": [
    "encoder.decode(encryptor.decrypt(raw_cipher)).astype(int)"
   ]
  },
  {
   "cell_type": "code",
   "execution_count": 36,
   "metadata": {},
   "outputs": [],
   "source": [
    "def ciphermul(cipher1, cipher2, modulo):\n",
    "    return [\n",
    "        jnp.polydiv(jnp.polymul(cipher1[0],cipher2[0]), modulo)[1],\n",
    "        jnp.polydiv(jnp.polymul(cipher1[0],cipher2[1]), modulo)[1] + \\\n",
    "        jnp.polydiv(jnp.polymul(cipher1[1],cipher2[0]), modulo)[1],\n",
    "        jnp.polydiv(jnp.polymul(cipher1[1],cipher2[1]), modulo)[1],\n",
    "    ]"
   ]
  },
  {
   "cell_type": "code",
   "execution_count": 37,
   "metadata": {},
   "outputs": [],
   "source": [
    "raw_cipher = ciphermul(c1, c2, encryptor.modulo)"
   ]
  },
  {
   "cell_type": "code",
   "execution_count": 45,
   "metadata": {},
   "outputs": [],
   "source": [
    "s = encryptor.s\n",
    "ss = jnp.polydiv(jnp.polymul(s,s), encryptor.modulo)[1]"
   ]
  },
  {
   "cell_type": "code",
   "execution_count": 57,
   "metadata": {},
   "outputs": [],
   "source": [
    "x = raw_cipher[0] + jnp.polydiv(jnp.polymul(raw_cipher[1], encryptor.s), encryptor.modulo)[1] + \\\n",
    "    jnp.polydiv(jnp.polymul(raw_cipher[2], ss), encryptor.modulo)[1]"
   ]
  },
  {
   "cell_type": "code",
   "execution_count": 59,
   "metadata": {},
   "outputs": [
    {
     "name": "stderr",
     "output_type": "stream",
     "text": [
      "/home/jiajie/OSS/jax/jax/_src/lax/lax.py:487: ComplexWarning: Casting complex values to real discards the imaginary part\n",
      "  return _convert_element_type(operand, new_dtype, weak_type=False)\n"
     ]
    },
    {
     "data": {
      "text/plain": [
       "DeviceArray([  8314,   6129,  -8019, -22166, -23103,  -9195,   8029,\n",
       "              14787], dtype=int32)"
      ]
     },
     "execution_count": 59,
     "metadata": {},
     "output_type": "execute_result"
    }
   ],
   "source": [
    "encoder.decode(x).astype(int)"
   ]
  }
 ],
 "metadata": {
  "interpreter": {
   "hash": "cf8934f4a6d3b9684e2485c6bd5e1b906b167532c92da3f2906f8e5936170076"
  },
  "kernelspec": {
   "display_name": "Python 3.8.0 ('jax')",
   "language": "python",
   "name": "python3"
  },
  "language_info": {
   "codemirror_mode": {
    "name": "ipython",
    "version": 3
   },
   "file_extension": ".py",
   "mimetype": "text/x-python",
   "name": "python",
   "nbconvert_exporter": "python",
   "pygments_lexer": "ipython3",
   "version": "3.8.0"
  },
  "orig_nbformat": 4
 },
 "nbformat": 4,
 "nbformat_minor": 2
}
