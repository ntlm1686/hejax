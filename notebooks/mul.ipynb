{
 "cells": [
  {
   "cell_type": "code",
   "execution_count": 2,
   "metadata": {},
   "outputs": [],
   "source": [
    "import jax.numpy as jnp\n",
    "# from ckks.encryptor import Encryptor\n",
    "from ckks.encoder import Encoder\n",
    "from ckks.utils import get_modulo"
   ]
  },
  {
   "cell_type": "code",
   "execution_count": 3,
   "metadata": {},
   "outputs": [],
   "source": [
    "M = 32\n",
    "scale = 2**10"
   ]
  },
  {
   "cell_type": "code",
   "execution_count": 4,
   "metadata": {},
   "outputs": [],
   "source": [
    "message = jnp.array([777,666,555,444,333,222,111,0])\n",
    "encoder = Encoder(M, scale, 0)\n",
    "# encryptor = Encryptor(13, M, 256, seed=0)"
   ]
  },
  {
   "cell_type": "code",
   "execution_count": 5,
   "metadata": {},
   "outputs": [],
   "source": [
    "code = encoder.encode(message)"
   ]
  },
  {
   "cell_type": "code",
   "execution_count": 6,
   "metadata": {},
   "outputs": [
    {
     "name": "stderr",
     "output_type": "stream",
     "text": [
      "/home/jiajie/OSS/jax/jax/_src/lax/lax.py:487: ComplexWarning: Casting complex values to real discards the imaginary part\n",
      "  return _convert_element_type(operand, new_dtype, weak_type=False)\n"
     ]
    },
    {
     "data": {
      "text/plain": [
       "DeviceArray([777, 666, 555, 444, 333, 222, 111,   0], dtype=int32)"
      ]
     },
     "execution_count": 6,
     "metadata": {},
     "output_type": "execute_result"
    }
   ],
   "source": [
    "jnp.around(encoder.decode(code)).astype(int)"
   ]
  },
  {
   "cell_type": "code",
   "execution_count": 8,
   "metadata": {},
   "outputs": [
    {
     "data": {
      "text/plain": [
       "(DeviceArray([111, 222, 333, 444, 555, 666, 777, 888], dtype=int32),\n",
       " DeviceArray([999, 888, 777, 666, 555, 444, 333, 222], dtype=int32))"
      ]
     },
     "execution_count": 8,
     "metadata": {},
     "output_type": "execute_result"
    }
   ],
   "source": [
    "m1 = jnp.arange(111,999,111)\n",
    "m2 = jnp.arange(999,111,-111)\n",
    "m1, m2"
   ]
  },
  {
   "cell_type": "code",
   "execution_count": 9,
   "metadata": {},
   "outputs": [
    {
     "data": {
      "text/plain": [
       "(DeviceArray([1, 2, 3, 4, 5, 6, 7, 8], dtype=int32),\n",
       " DeviceArray([9, 8, 7, 6, 5, 4, 3, 2], dtype=int32))"
      ]
     },
     "execution_count": 9,
     "metadata": {},
     "output_type": "execute_result"
    }
   ],
   "source": [
    "m1 = jnp.arange(1, 9, 1)\n",
    "m2 = jnp.arange(9, 1,-1)\n",
    "m1, m2"
   ]
  },
  {
   "cell_type": "code",
   "execution_count": 10,
   "metadata": {},
   "outputs": [],
   "source": [
    "e1, e2 = encoder.encode(m1), encoder.encode(m2)"
   ]
  }
 ],
 "metadata": {
  "interpreter": {
   "hash": "cf8934f4a6d3b9684e2485c6bd5e1b906b167532c92da3f2906f8e5936170076"
  },
  "kernelspec": {
   "display_name": "Python 3.8.0 ('jax')",
   "language": "python",
   "name": "python3"
  },
  "language_info": {
   "codemirror_mode": {
    "name": "ipython",
    "version": 3
   },
   "file_extension": ".py",
   "mimetype": "text/x-python",
   "name": "python",
   "nbconvert_exporter": "python",
   "pygments_lexer": "ipython3",
   "version": "3.8.0"
  },
  "orig_nbformat": 4
 },
 "nbformat": 4,
 "nbformat_minor": 2
}
