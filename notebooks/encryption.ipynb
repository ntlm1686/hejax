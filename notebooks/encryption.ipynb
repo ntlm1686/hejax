{
 "cells": [
  {
   "cell_type": "code",
   "execution_count": 1,
   "metadata": {},
   "outputs": [],
   "source": [
    "import numpy as np\n",
    "import jax\n",
    "import jax.numpy as jnp\n",
    "from jax import jit\n",
    "\n",
    "from functools import partial\n",
    "from typing import List\n",
    "\n",
    "jax_key = jax.random.PRNGKey(0)\n"
   ]
  },
  {
   "cell_type": "code",
   "execution_count": 2,
   "metadata": {},
   "outputs": [],
   "source": [
    "q = 32\n",
    "m = 16\n",
    "n = m//2"
   ]
  },
  {
   "cell_type": "code",
   "execution_count": 3,
   "metadata": {},
   "outputs": [],
   "source": [
    "a = jax.random.randint(jax_key, (m,), 0, q).astype(int) # sample\n",
    "s = jax.random.randint(jax_key, (m,), 0, q).astype(int) # secret key\n",
    "e = jnp.array([0,0,0,0]).astype(int)\n",
    "\n",
    "# modulo [1, 0, 0, ..., 0, 1] : (m+1, )\n",
    "modulo = jnp.zeros((m+1,)).astype(int)\n",
    "modulo = modulo.at[0].set(1)\n",
    "modulo = modulo.at[-1].set(1)\n",
    "\n",
    "a_s = jnp.polydiv(jnp.polymul(a, s), modulo)[1]\n",
    "\n",
    "message = jnp.array([7,6,5,4,3,2,1,0]).astype(int)"
   ]
  },
  {
   "cell_type": "code",
   "execution_count": 4,
   "metadata": {},
   "outputs": [],
   "source": [
    "class CKKS:\n",
    "    def __init__(self, q: int, m: int):\n",
    "        self.a = jax.random.randint(jax_key, (m,), 0, q).astype(int) # sample\n",
    "        self.s = jax.random.randint(jax_key, (m,), 0, q).astype(int) # secret key\n",
    "        self.e = jnp.array([5]).astype(int)\n",
    "\n",
    "        # modulo [1, 0, 0, ..., 0, 1] : (m+1, )\n",
    "        modulo = jnp.zeros((m+1,)).astype(int)\n",
    "        modulo = modulo.at[0].set(1)\n",
    "        self.modulo = modulo.at[-1].set(1)\n",
    "\n",
    "        self.a_s = jnp.polydiv(jnp.polymul(self.a, self.s), self.modulo)[1]\n",
    "\n",
    "        self.pub_key = [\n",
    "            jnp.polyadd(-self.a_s, self.e),\n",
    "            self.a\n",
    "        ]\n",
    "\n",
    "    def encrypt(self, message: jnp.array) -> jnp.array:\n",
    "        return [\n",
    "            jnp.polyadd(self.pub_key[0], message),\n",
    "            self.a\n",
    "        ]\n",
    "\n",
    "    def decrypt(self, ciphertext: List[jnp.array]) -> jnp.array:\n",
    "        return jnp.polyadd(\n",
    "            ciphertext[0],\n",
    "            # jnp.polydiv(jnp.polymul(ciphertext[1], self.s), self.modulo)[1]\n",
    "            jnp.polydiv(jnp.polymul(ciphertext[1], self.s), self.modulo)[1]\n",
    "        )\n",
    "\n",
    "ckks = CKKS(13, 16)\n",
    "message = jnp.array([777,666,555,444,333,222,111,0]).astype(int)"
   ]
  },
  {
   "cell_type": "code",
   "execution_count": 5,
   "metadata": {},
   "outputs": [
    {
     "data": {
      "text/plain": [
       "DeviceArray([  0.,   0.,   0.,   0.,   0.,   0.,   0.,   0.,   0.,   0.,\n",
       "               0.,   0.,   0.,   0.,   0.,   0.,   0.,   0.,   0.,   0.,\n",
       "               0.,   0.,   0., 777., 666., 555., 444., 333., 222., 111.,\n",
       "               5.], dtype=float32)"
      ]
     },
     "execution_count": 5,
     "metadata": {},
     "output_type": "execute_result"
    }
   ],
   "source": [
    "cipher = ckks.encrypt(message)\n",
    "message_decrypted = ckks.decrypt(cipher)\n",
    "message_decrypted"
   ]
  },
  {
   "cell_type": "code",
   "execution_count": null,
   "metadata": {},
   "outputs": [],
   "source": []
  },
  {
   "cell_type": "markdown",
   "metadata": {},
   "source": [
    "## Ciphertext-Ciphertext Multiplication"
   ]
  },
  {
   "cell_type": "code",
   "execution_count": null,
   "metadata": {},
   "outputs": [],
   "source": []
  }
 ],
 "metadata": {
  "interpreter": {
   "hash": "cf8934f4a6d3b9684e2485c6bd5e1b906b167532c92da3f2906f8e5936170076"
  },
  "kernelspec": {
   "display_name": "Python 3.8.0 ('jax')",
   "language": "python",
   "name": "python3"
  },
  "language_info": {
   "codemirror_mode": {
    "name": "ipython",
    "version": 3
   },
   "file_extension": ".py",
   "mimetype": "text/x-python",
   "name": "python",
   "nbconvert_exporter": "python",
   "pygments_lexer": "ipython3",
   "version": "3.8.0"
  },
  "orig_nbformat": 4
 },
 "nbformat": 4,
 "nbformat_minor": 2
}
