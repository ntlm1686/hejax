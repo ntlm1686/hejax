{
 "cells": [
  {
   "cell_type": "code",
   "execution_count": 1,
   "metadata": {},
   "outputs": [],
   "source": [
    "import os\n",
    "os.environ['CUDA_VISIBLE_DEVICES']='1'\n",
    "\n",
    "from jax.config import config\n",
    "config.update(\"jax_enable_x64\", True)\n",
    "import jax\n",
    "from jax import jit\n",
    "import jax.numpy as jnp\n",
    "\n",
    "from polynomials.PolynomialRing import make_polynomial_ring\n",
    "from ckks.rlwe_ckks import RLWECKKS\n",
    "from ckks.utils import *"
   ]
  },
  {
   "cell_type": "code",
   "execution_count": 68,
   "metadata": {},
   "outputs": [],
   "source": [
    "n = 4\n",
    "q = 671082899\n",
    "P = 1023\n",
    "seed = 3\n",
    "std = 1"
   ]
  },
  {
   "cell_type": "code",
   "execution_count": 124,
   "metadata": {},
   "outputs": [],
   "source": [
    "rlwe = RLWECKKS(n, q, P, std, seed=seed)\n",
    "\n",
    "sk, pk = rlwe.generate_keys()\n",
    "\n",
    "m1 = jnp.array([-1231,23,3145,-4156])  # plaintext\n",
    "m2 = jnp.array([3021,-1432,51435,5654])"
   ]
  },
  {
   "cell_type": "markdown",
   "metadata": {},
   "source": [
    "## Add & Mul"
   ]
  },
  {
   "cell_type": "code",
   "execution_count": 125,
   "metadata": {},
   "outputs": [],
   "source": [
    "c1 = rlwe.encrypt(m1, pk)\n",
    "c2 = rlwe.encrypt(m2, pk)"
   ]
  },
  {
   "cell_type": "code",
   "execution_count": 126,
   "metadata": {},
   "outputs": [
    {
     "data": {
      "text/plain": [
       "Polynomial ring: [-1228.    26.  3147. -4158.] (mod 671082899), reminder range: (-335541450, 335541449]"
      ]
     },
     "execution_count": 126,
     "metadata": {},
     "output_type": "execute_result"
    }
   ],
   "source": [
    "rlwe.decrypt(c1, sk)"
   ]
  },
  {
   "cell_type": "code",
   "execution_count": 127,
   "metadata": {},
   "outputs": [
    {
     "data": {
      "text/plain": [
       "Polynomial ring: [ 3024. -1429. 51437.  5652.] (mod 671082899), reminder range: (-335541450, 335541449]"
      ]
     },
     "execution_count": 127,
     "metadata": {},
     "output_type": "execute_result"
    }
   ],
   "source": [
    "rlwe.decrypt(c2, sk)"
   ]
  },
  {
   "cell_type": "code",
   "execution_count": 128,
   "metadata": {},
   "outputs": [],
   "source": [
    "c_add = rlwe.add(c1, c2)"
   ]
  },
  {
   "cell_type": "code",
   "execution_count": 129,
   "metadata": {},
   "outputs": [
    {
     "data": {
      "text/plain": [
       "Polynomial ring: [ 1796. -1403. 54584.  1494.] (mod 671082899), reminder range: (-335541450, 335541449]"
      ]
     },
     "execution_count": 129,
     "metadata": {},
     "output_type": "execute_result"
    }
   ],
   "source": [
    "rlwe.decrypt(c_add, sk)"
   ]
  },
  {
   "cell_type": "code",
   "execution_count": 130,
   "metadata": {},
   "outputs": [
    {
     "data": {
      "text/plain": [
       "((Polynomial ring: [-1.82931753e+08 -1.35543333e+08 -1.81941724e+08  1.39344490e+08] (mod 671082899), reminder range: (-335541450, 335541449],\n",
       "  Polynomial ring: [ 2.90549755e+08 -1.51201107e+08  3.34131632e+08 -1.98588273e+08] (mod 671082899), reminder range: (-335541450, 335541449]),\n",
       " (Polynomial ring: [-1.82927501e+08 -1.35544788e+08 -1.81893434e+08  1.39354300e+08] (mod 671082899), reminder range: (-335541450, 335541449],\n",
       "  Polynomial ring: [ 2.90549755e+08 -1.51201107e+08  3.34131632e+08 -1.98588273e+08] (mod 671082899), reminder range: (-335541450, 335541449]))"
      ]
     },
     "execution_count": 130,
     "metadata": {},
     "output_type": "execute_result"
    }
   ],
   "source": [
    "c1, c2"
   ]
  },
  {
   "cell_type": "code",
   "execution_count": 131,
   "metadata": {},
   "outputs": [
    {
     "data": {
      "text/plain": [
       "(Polynomial ring: [ 2.80076640e+08 -1.57477034e+08  6.83146500e+07  2.73488170e+08] (mod 671082899), reminder range: (-335541450, 335541449],\n",
       " Polynomial ring: [ 1.11563170e+08 -1.89286256e+08 -1.80023060e+08 -9.89432250e+07] (mod 671082899), reminder range: (-335541450, 335541449],\n",
       " Polynomial ring: [-2.67162012e+08  1.99275260e+08 -7.56586580e+07  2.73069055e+08] (mod 671082899), reminder range: (-335541450, 335541449])"
      ]
     },
     "execution_count": 131,
     "metadata": {},
     "output_type": "execute_result"
    }
   ],
   "source": [
    "c_mul = rlwe.mul(c1, c2)\n",
    "c_mul"
   ]
  },
  {
   "cell_type": "code",
   "execution_count": 132,
   "metadata": {},
   "outputs": [
    {
     "data": {
      "text/plain": [
       "(Polynomial ring: [ 2.80076640e+08 -1.57477034e+08  6.83146500e+07  2.73488170e+08] (mod 671082899), reminder range: (-335541450, 335541449],\n",
       " Polynomial ring: [ 1.11563170e+08 -1.89286256e+08 -1.80023060e+08 -9.89432250e+07] (mod 671082899), reminder range: (-335541450, 335541449],\n",
       " Polynomial ring: [-2.67162012e+08  1.99275260e+08 -7.56586580e+07  2.73069055e+08] (mod 671082899), reminder range: (-335541450, 335541449])"
      ]
     },
     "execution_count": 132,
     "metadata": {},
     "output_type": "execute_result"
    }
   ],
   "source": [
    "c_mul"
   ]
  },
  {
   "cell_type": "code",
   "execution_count": 133,
   "metadata": {},
   "outputs": [
    {
     "data": {
      "text/plain": [
       "Polynomial ring: [-2.26741110e+07  1.71674500e+08 -1.97921595e+08  3.01842570e+07] (mod 671082899), reminder range: (-335541450, 335541449]"
      ]
     },
     "execution_count": 133,
     "metadata": {},
     "output_type": "execute_result"
    }
   ],
   "source": [
    "rlwe.decrypt(c_mul, sk)"
   ]
  },
  {
   "cell_type": "code",
   "execution_count": 134,
   "metadata": {},
   "outputs": [
    {
     "data": {
      "text/plain": [
       "DeviceArray([-2.28359850e+07,  1.71563360e+08, -1.97814305e+08,\n",
       "              3.03503520e+07], dtype=float64)"
      ]
     },
     "execution_count": 134,
     "metadata": {},
     "output_type": "execute_result"
    }
   ],
   "source": [
    "ring_polymul(m1, m2, get_modulo(4))[1][-4:]"
   ]
  },
  {
   "cell_type": "code",
   "execution_count": 145,
   "metadata": {},
   "outputs": [],
   "source": [
    "def mul(x, y):\n",
    "    return shift_mod(jnp.polydiv(\n",
    "        jnp.polymul(x, y),\n",
    "        get_modulo(4) \n",
    "    )[1][-4:], q)\n",
    "\n",
    "def add(x, y):\n",
    "    return shift_mod(jnp.polyadd(\n",
    "        x, y\n",
    "    ), q)"
   ]
  },
  {
   "cell_type": "markdown",
   "metadata": {},
   "source": [
    "## Relinear"
   ]
  },
  {
   "cell_type": "code",
   "execution_count": 159,
   "metadata": {},
   "outputs": [
    {
     "data": {
      "text/plain": [
       "Polynomial ring: [ 0  1 -2  1] (mod 671082899), reminder range: (-335541450, 335541449]"
      ]
     },
     "execution_count": 159,
     "metadata": {},
     "output_type": "execute_result"
    }
   ],
   "source": [
    "s = rlwe.PR(jnp.array([0,0,1,-1]))\n",
    "s*s"
   ]
  },
  {
   "cell_type": "code",
   "execution_count": 139,
   "metadata": {},
   "outputs": [
    {
     "data": {
      "text/plain": [
       "(Polynomial ring: [ 3.27298174e+08  3.33997132e+08 -9.45168020e+07  1.65997843e+08] (mod 671082899), reminder range: (-335541450, 335541449],)"
      ]
     },
     "execution_count": 139,
     "metadata": {},
     "output_type": "execute_result"
    }
   ],
   "source": [
    "x = 1/rlwe.P * c_mul[2]\n",
    "c_mul[0] + (x * rlwe.evk[0]).round(),"
   ]
  },
  {
   "cell_type": "code",
   "execution_count": 142,
   "metadata": {},
   "outputs": [],
   "source": [
    "cm0 = c_mul[0].coeffs\n",
    "cm2 = c_mul[2].coeffs\n",
    "evk = rlwe.evk[0].coeffs"
   ]
  },
  {
   "cell_type": "code",
   "execution_count": 151,
   "metadata": {},
   "outputs": [
    {
     "data": {
      "text/plain": [
       "DeviceArray([ 3.27295726e+08,  3.33987444e+08, -9.45275540e+07,\n",
       "              1.65997707e+08], dtype=float64)"
      ]
     },
     "execution_count": 151,
     "metadata": {},
     "output_type": "execute_result"
    }
   ],
   "source": [
    "x = cm2/rlwe.P\n",
    "\n",
    "add(cm0, mul(x, evk))"
   ]
  },
  {
   "cell_type": "code",
   "execution_count": 140,
   "metadata": {},
   "outputs": [
    {
     "data": {
      "text/plain": [
       "(Polynomial ring: [ 3.27298174e+08  3.33997132e+08 -9.45168020e+07  1.65997843e+08] (mod 671082899), reminder range: (-335541450, 335541449],\n",
       " Polynomial ring: [-1.22374326e+08  2.58116669e+08  6.31049950e+07 -2.25235029e+08] (mod 671082899), reminder range: (-335541450, 335541449])"
      ]
     },
     "execution_count": 140,
     "metadata": {},
     "output_type": "execute_result"
    }
   ],
   "source": [
    "cc"
   ]
  },
  {
   "cell_type": "code",
   "execution_count": 152,
   "metadata": {},
   "outputs": [
    {
     "data": {
      "text/plain": [
       "Polynomial ring: [-2.25630610e+07  1.71867098e+08 -1.97377505e+08  3.02555000e+07] (mod 671082899), reminder range: (-335541450, 335541449]"
      ]
     },
     "execution_count": 152,
     "metadata": {},
     "output_type": "execute_result"
    }
   ],
   "source": [
    "cc = rlwe.relinear(c_mul)\n",
    "rlwe.decrypt(cc, sk)"
   ]
  },
  {
   "cell_type": "markdown",
   "metadata": {},
   "source": [
    "## Rescaling"
   ]
  },
  {
   "cell_type": "code",
   "execution_count": 19,
   "metadata": {},
   "outputs": [
    {
     "data": {
      "text/plain": [
       "[polynomials.PolynomialRing.make_polynomial_ring.<locals>.PolynomialRing,\n",
       " polynomials.PolynomialRing.make_polynomial_ring.<locals>.PolynomialRing,\n",
       " polynomials.PolynomialRing.make_polynomial_ring.<locals>.PolynomialRing,\n",
       " polynomials.PolynomialRing.make_polynomial_ring.<locals>.PolynomialRing,\n",
       " polynomials.PolynomialRing.make_polynomial_ring.<locals>.PolynomialRing,\n",
       " polynomials.PolynomialRing.make_polynomial_ring.<locals>.PolynomialRing,\n",
       " polynomials.PolynomialRing.make_polynomial_ring.<locals>.PolynomialRing,\n",
       " polynomials.PolynomialRing.make_polynomial_ring.<locals>.PolynomialRing,\n",
       " polynomials.PolynomialRing.make_polynomial_ring.<locals>.PolynomialRing,\n",
       " polynomials.PolynomialRing.make_polynomial_ring.<locals>.PolynomialRing,\n",
       " polynomials.PolynomialRing.make_polynomial_ring.<locals>.PolynomialRing,\n",
       " polynomials.PolynomialRing.make_polynomial_ring.<locals>.PolynomialRing,\n",
       " polynomials.PolynomialRing.make_polynomial_ring.<locals>.PolynomialRing,\n",
       " polynomials.PolynomialRing.make_polynomial_ring.<locals>.PolynomialRing,\n",
       " polynomials.PolynomialRing.make_polynomial_ring.<locals>.PolynomialRing]"
      ]
     },
     "execution_count": 19,
     "metadata": {},
     "output_type": "execute_result"
    }
   ],
   "source": []
  },
  {
   "cell_type": "code",
   "execution_count": null,
   "metadata": {},
   "outputs": [],
   "source": []
  }
 ],
 "metadata": {
  "interpreter": {
   "hash": "cf8934f4a6d3b9684e2485c6bd5e1b906b167532c92da3f2906f8e5936170076"
  },
  "kernelspec": {
   "display_name": "Python 3.8.0 ('jax')",
   "language": "python",
   "name": "python3"
  },
  "language_info": {
   "codemirror_mode": {
    "name": "ipython",
    "version": 3
   },
   "file_extension": ".py",
   "mimetype": "text/x-python",
   "name": "python",
   "nbconvert_exporter": "python",
   "pygments_lexer": "ipython3",
   "version": "3.8.0"
  },
  "orig_nbformat": 4
 },
 "nbformat": 4,
 "nbformat_minor": 2
}
