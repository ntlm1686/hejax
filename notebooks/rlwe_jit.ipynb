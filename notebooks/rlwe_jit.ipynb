{
 "cells": [
  {
   "cell_type": "code",
   "execution_count": 2,
   "metadata": {},
   "outputs": [],
   "source": [
    "import os\n",
    "# os.environ['CUDA_VISIBLE_DEVICES']='0'\n",
    "\n",
    "from jax.config import config\n",
    "config.update(\"jax_enable_x64\", True)\n",
    "import jax\n",
    "from jax import jit\n",
    "import jax.numpy as jnp\n",
    "\n",
    "from polynomials.pr_func import make_polynomial_ring_fn\n",
    "from ckks.rlwe_jit import Encryptor\n",
    "from ckks.utils import ring_polymul, get_modulo, shift_mod"
   ]
  },
  {
   "cell_type": "code",
   "execution_count": 73,
   "metadata": {},
   "outputs": [],
   "source": [
    "n = 8\n",
    "q = 3\n",
    "P = 1023\n",
    "seed = 5\n",
    "std = 1\n",
    "p = 3\n",
    "L = 15\n",
    "h = 2"
   ]
  },
  {
   "cell_type": "code",
   "execution_count": 74,
   "metadata": {},
   "outputs": [],
   "source": [
    "rlwe = Encryptor(n, q, p, L, P, std, h, seed)\n",
    "\n",
    "# rlwe.Q = 671082899\n",
    "\n",
    "sk, pk = rlwe.generate_keys()\n",
    "\n",
    "m1 = jnp.arange(111,889, 111)  # plaintext\n",
    "m2 = jnp.flip(m1)"
   ]
  },
  {
   "cell_type": "markdown",
   "metadata": {},
   "source": [
    "## Add & Mul"
   ]
  },
  {
   "cell_type": "code",
   "execution_count": 75,
   "metadata": {},
   "outputs": [
    {
     "data": {
      "text/plain": [
       "(DeviceArray([ -8831877.,    921949., -10416868., -17795335.,   2994273.,\n",
       "                3770557.,  11112864.,  12504424.], dtype=float64),\n",
       " DeviceArray([ 16559429, -15374430,  -2870006,   5961871,   5039922,\n",
       "               15456789,  -9794597, -12788872], dtype=int64))"
      ]
     },
     "execution_count": 75,
     "metadata": {},
     "output_type": "execute_result"
    }
   ],
   "source": [
    "pk"
   ]
  },
  {
   "cell_type": "code",
   "execution_count": 76,
   "metadata": {},
   "outputs": [],
   "source": [
    "c1 = rlwe.encrypt(m1, pk)\n",
    "c2 = rlwe.encrypt(m2, pk)"
   ]
  },
  {
   "cell_type": "code",
   "execution_count": 77,
   "metadata": {},
   "outputs": [
    {
     "data": {
      "text/plain": [
       "DeviceArray([112., 221., 334., 450., 551., 665., 779., 892.], dtype=float64)"
      ]
     },
     "execution_count": 77,
     "metadata": {},
     "output_type": "execute_result"
    }
   ],
   "source": [
    "rlwe.decrypt(c1, L, sk)"
   ]
  },
  {
   "cell_type": "code",
   "execution_count": 78,
   "metadata": {},
   "outputs": [],
   "source": [
    "clow = rlwe.rescale(c1, L, L-2)"
   ]
  },
  {
   "cell_type": "code",
   "execution_count": 79,
   "metadata": {},
   "outputs": [
    {
     "data": {
      "text/plain": [
       "DeviceArray([13., 24., 38., 50., 61., 74., 87., 99.], dtype=float64)"
      ]
     },
     "execution_count": 79,
     "metadata": {},
     "output_type": "execute_result"
    }
   ],
   "source": [
    "rlwe.decrypt(clow, L-2, sk)"
   ]
  },
  {
   "cell_type": "code",
   "execution_count": 80,
   "metadata": {},
   "outputs": [
    {
     "data": {
      "text/plain": [
       "DeviceArray([999, 999, 999, 999, 999, 999, 999, 999], dtype=int64)"
      ]
     },
     "execution_count": 80,
     "metadata": {},
     "output_type": "execute_result"
    }
   ],
   "source": [
    "m1 + m2"
   ]
  },
  {
   "cell_type": "code",
   "execution_count": 81,
   "metadata": {},
   "outputs": [
    {
     "data": {
      "text/plain": [
       "DeviceArray([1001.,  997., 1001., 1011.,  991.,  997., 1003., 1007.], dtype=float64)"
      ]
     },
     "execution_count": 81,
     "metadata": {},
     "output_type": "execute_result"
    }
   ],
   "source": [
    "rlwe.decrypt(\n",
    "    rlwe.add(c1, c2, L),\n",
    "    L, sk\n",
    ")"
   ]
  },
  {
   "cell_type": "code",
   "execution_count": 82,
   "metadata": {},
   "outputs": [
    {
     "data": {
      "text/plain": [
       "(DeviceArray([ 21474134.,   -766011.,  14921263., -20781493.,   7077716.,\n",
       "               -3491477.,     34154.,  21353610.], dtype=float64),\n",
       " DeviceArray([ -5998675.,  -4615894.,  18659763.,   -340121.,   2429467.,\n",
       "              -11173830.,  10349478.,   3237227.], dtype=float64))"
      ]
     },
     "execution_count": 82,
     "metadata": {},
     "output_type": "execute_result"
    }
   ],
   "source": [
    "c_mul = rlwe.mul(c1, c2, L)\n",
    "c_mul"
   ]
  },
  {
   "cell_type": "code",
   "execution_count": 83,
   "metadata": {},
   "outputs": [
    {
     "data": {
      "text/plain": [
       "(DeviceArray([-14946616., -18522494.,  -8976073.,  16950912.,   7812471.,\n",
       "                8136547.,   4369741.,  -1408394.], dtype=float64),\n",
       " DeviceArray([ -6253631.,  -1884669.,  -3293955.,  11652773., -12871233.,\n",
       "               -3894826., -20845288.,  14389513.], dtype=float64))"
      ]
     },
     "execution_count": 83,
     "metadata": {},
     "output_type": "execute_result"
    }
   ],
   "source": [
    "c1"
   ]
  },
  {
   "cell_type": "code",
   "execution_count": 84,
   "metadata": {},
   "outputs": [
    {
     "data": {
      "text/plain": [
       "DeviceArray([ 2474250.,  2003577.,  1317966.,   741815.,   -34535.,\n",
       "              -730029., -1348627., -1922047.], dtype=float64)"
      ]
     },
     "execution_count": 84,
     "metadata": {},
     "output_type": "execute_result"
    }
   ],
   "source": [
    "rlwe.decrypt(c_mul, L, sk)"
   ]
  },
  {
   "cell_type": "code",
   "execution_count": 1,
   "metadata": {},
   "outputs": [
    {
     "ename": "NameError",
     "evalue": "name 'ring_polymul' is not defined",
     "output_type": "error",
     "traceback": [
      "\u001b[0;31m---------------------------------------------------------------------------\u001b[0m",
      "\u001b[0;31mNameError\u001b[0m                                 Traceback (most recent call last)",
      "\u001b[1;32m/home/jiajie/Repos/HE/ckks_jax/notebooks/rlwe_jit.ipynb Cell 15'\u001b[0m in \u001b[0;36m<cell line: 1>\u001b[0;34m()\u001b[0m\n\u001b[0;32m----> <a href='vscode-notebook-cell://ssh-remote%2Bpolaris.cse.buffalo.edu/home/jiajie/Repos/HE/ckks_jax/notebooks/rlwe_jit.ipynb#ch0000011vscode-remote?line=0'>1</a>\u001b[0m ring_polymul(m1, m2, get_modulo(\u001b[39m8\u001b[39m))[\u001b[39m1\u001b[39m][\u001b[39m-\u001b[39m\u001b[39m8\u001b[39m:]\n",
      "\u001b[0;31mNameError\u001b[0m: name 'ring_polymul' is not defined"
     ]
    }
   ],
   "source": [
    "ring_polymul(m1, m2, get_modulo(8))[1][-8:]"
   ]
  },
  {
   "cell_type": "code",
   "execution_count": 93,
   "metadata": {},
   "outputs": [
    {
     "data": {
      "text/plain": [
       "DeviceArray(0.11586229, dtype=float64)"
      ]
     },
     "execution_count": 93,
     "metadata": {},
     "output_type": "execute_result"
    }
   ],
   "source": [
    "jnp.abs(rlwe.decrypt(c_mul, L, sk) - ring_polymul(m1, m2, get_modulo(8))[1][-8:]).sum() / (ring_polymul(m1, m2, get_modulo(8))[1][-8:]).sum()"
   ]
  },
  {
   "cell_type": "code",
   "execution_count": null,
   "metadata": {},
   "outputs": [],
   "source": []
  }
 ],
 "metadata": {
  "interpreter": {
   "hash": "cf8934f4a6d3b9684e2485c6bd5e1b906b167532c92da3f2906f8e5936170076"
  },
  "kernelspec": {
   "display_name": "Python 3.8.0 ('jax')",
   "language": "python",
   "name": "python3"
  },
  "language_info": {
   "codemirror_mode": {
    "name": "ipython",
    "version": 3
   },
   "file_extension": ".py",
   "mimetype": "text/x-python",
   "name": "python",
   "nbconvert_exporter": "python",
   "pygments_lexer": "ipython3",
   "version": "3.8.0"
  },
  "orig_nbformat": 4
 },
 "nbformat": 4,
 "nbformat_minor": 2
}
