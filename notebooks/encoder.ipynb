{
 "cells": [
  {
   "cell_type": "code",
   "execution_count": 1,
   "metadata": {},
   "outputs": [
    {
     "ename": "ImportError",
     "evalue": "cannot import name 'CKKSEncoder' from 'ckks.encoder' (/home/jiajie/Repos/HE/ckks_jax/notebooks/ckks/encoder.py)",
     "output_type": "error",
     "traceback": [
      "\u001b[0;31m---------------------------------------------------------------------------\u001b[0m",
      "\u001b[0;31mImportError\u001b[0m                               Traceback (most recent call last)",
      "\u001b[1;32m/home/jiajie/Repos/HE/ckks_jax/notebooks/encoder.ipynb Cell 1'\u001b[0m in \u001b[0;36m<cell line: 8>\u001b[0;34m()\u001b[0m\n\u001b[1;32m      <a href='vscode-notebook-cell://ssh-remote%2Bpolaris.cse.buffalo.edu/home/jiajie/Repos/HE/ckks_jax/notebooks/encoder.ipynb#ch0000000vscode-remote?line=4'>5</a>\u001b[0m \u001b[39mfrom\u001b[39;00m \u001b[39mjax\u001b[39;00m \u001b[39mimport\u001b[39;00m jit\n\u001b[1;32m      <a href='vscode-notebook-cell://ssh-remote%2Bpolaris.cse.buffalo.edu/home/jiajie/Repos/HE/ckks_jax/notebooks/encoder.ipynb#ch0000000vscode-remote?line=5'>6</a>\u001b[0m \u001b[39mfrom\u001b[39;00m \u001b[39mfunctools\u001b[39;00m \u001b[39mimport\u001b[39;00m partial\n\u001b[0;32m----> <a href='vscode-notebook-cell://ssh-remote%2Bpolaris.cse.buffalo.edu/home/jiajie/Repos/HE/ckks_jax/notebooks/encoder.ipynb#ch0000000vscode-remote?line=7'>8</a>\u001b[0m \u001b[39mfrom\u001b[39;00m \u001b[39mckks\u001b[39;00m\u001b[39m.\u001b[39;00m\u001b[39mencoder\u001b[39;00m \u001b[39mimport\u001b[39;00m CKKSEncoder\n\u001b[1;32m      <a href='vscode-notebook-cell://ssh-remote%2Bpolaris.cse.buffalo.edu/home/jiajie/Repos/HE/ckks_jax/notebooks/encoder.ipynb#ch0000000vscode-remote?line=8'>9</a>\u001b[0m \u001b[39mfrom\u001b[39;00m \u001b[39mckks\u001b[39;00m\u001b[39m.\u001b[39;00m\u001b[39mcpu\u001b[39;00m\u001b[39m.\u001b[39;00m\u001b[39menc_cpu\u001b[39;00m \u001b[39mimport\u001b[39;00m CKKSEncoder \u001b[39mas\u001b[39;00m CKKSEncoderCPU\n",
      "\u001b[0;31mImportError\u001b[0m: cannot import name 'CKKSEncoder' from 'ckks.encoder' (/home/jiajie/Repos/HE/ckks_jax/notebooks/ckks/encoder.py)"
     ]
    }
   ],
   "source": [
    "# %env CUDA_VISIBLE_DEVICES=0\n",
    "import numpy as np\n",
    "import jax\n",
    "import jax.numpy as jnp\n",
    "from jax import jit\n",
    "from functools import partial\n",
    "\n",
    "from ckks.encoder import CKKSEncoder\n",
    "from ckks.cpu.enc_cpu import CKKSEncoder as CKKSEncoderCPU"
   ]
  },
  {
   "cell_type": "code",
   "execution_count": 3,
   "metadata": {},
   "outputs": [
    {
     "data": {
      "text/plain": [
       "DeviceArray([2.9947152+4.011139j , 1.9907174-1.0010103j,\n",
       "             3.0099041+4.0146465j, 2.0128212-0.9828348j,\n",
       "             2.9871714+4.0171556j, 1.990093 -0.9853475j,\n",
       "             3.009272 +3.9989834j, 2.005281 -0.988852j ], dtype=complex64)"
      ]
     },
     "execution_count": 3,
     "metadata": {},
     "output_type": "execute_result"
    }
   ],
   "source": [
    "scale = 64\n",
    "times = 4\n",
    "M = 8*times\n",
    "\n",
    "encoder = CKKSEncoder(M, scale)\n",
    "z = jnp.array([3 + 4j, 2 - 1j]*times)\n",
    "p = encoder.encode(z)\n",
    "z_ = encoder.decode(p)\n",
    "z_"
   ]
  },
  {
   "cell_type": "code",
   "execution_count": null,
   "metadata": {},
   "outputs": [
    {
     "name": "stdout",
     "output_type": "stream",
     "text": [
      "11.8 ms ± 5.84 ms per loop (mean ± std. dev. of 7 runs, 10 loops each)\n"
     ]
    }
   ],
   "source": [
    "%timeit jax.block_until_ready(encoder.encode(z))"
   ]
  },
  {
   "cell_type": "code",
   "execution_count": null,
   "metadata": {},
   "outputs": [
    {
     "name": "stdout",
     "output_type": "stream",
     "text": [
      "2 ms ± 27.3 µs per loop (mean ± std. dev. of 7 runs, 1 loop each)\n"
     ]
    }
   ],
   "source": [
    "%timeit jax.block_until_ready(encoder.decode(p))"
   ]
  },
  {
   "cell_type": "markdown",
   "metadata": {},
   "source": [
    "## CPU"
   ]
  },
  {
   "cell_type": "code",
   "execution_count": 33,
   "metadata": {},
   "outputs": [],
   "source": [
    "encoder_cpu = CKKSEncoderCPU(M, scale)\n",
    "z_cpu = np.array([3 + 4j, 2 - 1j]*times)\n",
    "p_cpu = encoder_cpu.encode(z_cpu)"
   ]
  },
  {
   "cell_type": "code",
   "execution_count": 34,
   "metadata": {},
   "outputs": [
    {
     "name": "stdout",
     "output_type": "stream",
     "text": [
      "87.6 ms ± 935 µs per loop (mean ± std. dev. of 7 runs, 10 loops each)\n"
     ]
    }
   ],
   "source": [
    "%timeit encoder_cpu.encode(z_cpu)"
   ]
  },
  {
   "cell_type": "code",
   "execution_count": 48,
   "metadata": {},
   "outputs": [],
   "source": [
    "N = 50\n",
    "key = jax.random.PRNGKey(0)\n",
    "data = jax.random.uniform(key, (N, times*2))\n",
    "\n",
    "@jit\n",
    "def encode_n_gpu():\n",
    "    data = jax.random.uniform(key, (N, times*2))\n",
    "    return [encoder.encode(data[i,:]) for i in range(50)]\n",
    "\n",
    "def encode_n_cpu():\n",
    "    return [encoder_cpu.encode(z_cpu) for _ in range(50)]\n"
   ]
  },
  {
   "cell_type": "code",
   "execution_count": 50,
   "metadata": {},
   "outputs": [
    {
     "name": "stdout",
     "output_type": "stream",
     "text": [
      "113 ms ± 1.84 ms per loop (mean ± std. dev. of 7 runs, 10 loops each)\n"
     ]
    }
   ],
   "source": [
    "%timeit jax.block_until_ready(encode_n_gpu())\n"
   ]
  },
  {
   "cell_type": "code",
   "execution_count": 51,
   "metadata": {},
   "outputs": [
    {
     "name": "stdout",
     "output_type": "stream",
     "text": [
      "4.39 s ± 13.3 ms per loop (mean ± std. dev. of 7 runs, 1 loop each)\n"
     ]
    }
   ],
   "source": [
    "%timeit encode_n_cpu()"
   ]
  }
 ],
 "metadata": {
  "interpreter": {
   "hash": "cf8934f4a6d3b9684e2485c6bd5e1b906b167532c92da3f2906f8e5936170076"
  },
  "kernelspec": {
   "display_name": "Python 3.8.0 ('jax')",
   "language": "python",
   "name": "python3"
  },
  "language_info": {
   "codemirror_mode": {
    "name": "ipython",
    "version": 3
   },
   "file_extension": ".py",
   "mimetype": "text/x-python",
   "name": "python",
   "nbconvert_exporter": "python",
   "pygments_lexer": "ipython3",
   "version": "3.8.0"
  },
  "orig_nbformat": 4
 },
 "nbformat": 4,
 "nbformat_minor": 2
}
