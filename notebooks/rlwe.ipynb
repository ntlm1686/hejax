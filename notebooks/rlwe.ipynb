{
 "cells": [
  {
   "cell_type": "code",
   "execution_count": 1,
   "metadata": {},
   "outputs": [],
   "source": [
    "from jax.config import config\n",
    "config.update(\"jax_enable_x64\", True)\n",
    "import jax\n",
    "from jax import jit\n",
    "import jax.numpy as jnp\n",
    "\n",
    "from polynomials.PolynomialRing import make_polynomial_ring\n",
    "from ckks.rlwe import RLWE\n",
    "from ckks.utils import *"
   ]
  },
  {
   "cell_type": "code",
   "execution_count": 60,
   "metadata": {},
   "outputs": [],
   "source": [
    "rlwe = RLWE(4, 67108289, 1001, 3)\n",
    "sec = rlwe.PR_c(jnp.array([ 1, -1,  2,  1]))\n",
    "pub = (\n",
    "    rlwe.PR_c(jnp.array([16687756,  11294722,   1219612, -18590038])),\n",
    "    rlwe.PR_c(jnp.array([-5940686, -17455659,  24384499, -18559542]))\n",
    ")\n",
    "\n",
    "m1 = jnp.array([11,22,33,44])  # plaintext\n",
    "m2 = jnp.array([1,2,3,4])"
   ]
  },
  {
   "cell_type": "code",
   "execution_count": 61,
   "metadata": {},
   "outputs": [],
   "source": [
    "c1, c2 = rlwe.encrypt(m1, pub), rlwe.encrypt(m2, pub)"
   ]
  },
  {
   "cell_type": "code",
   "execution_count": 62,
   "metadata": {},
   "outputs": [
    {
     "data": {
      "text/plain": [
       "(Polynomial ring: [-17007018  33015667  18969724   -541037] (mod 67108289), reminder range: (-33554145, 33554144],\n",
       " Polynomial ring: [-28561157  18335964 -19289857 -30819462] (mod 67108289), reminder range: (-33554145, 33554144],\n",
       " Polynomial ring: [ 23695975  -3737475 -25717581  19021729] (mod 67108289), reminder range: (-33554145, 33554144])"
      ]
     },
     "execution_count": 62,
     "metadata": {},
     "output_type": "execute_result"
    }
   ],
   "source": [
    "cmul = rlwe.mul(c1,c2)\n",
    "cmul"
   ]
  },
  {
   "cell_type": "code",
   "execution_count": 64,
   "metadata": {},
   "outputs": [
    {
     "data": {
      "text/plain": [
       "Polynomial ring: [297 418 451 297] (mod 1001), reminder range: (-501, 500]"
      ]
     },
     "execution_count": 64,
     "metadata": {},
     "output_type": "execute_result"
    }
   ],
   "source": [
    "rlwe.decrypt(cmul, sec)"
   ]
  },
  {
   "cell_type": "code",
   "execution_count": 4,
   "metadata": {},
   "outputs": [],
   "source": [
    "c = [\n",
    "    rlwe.PR_c(jnp.array([-1833553, 33259835, -8886793,  7344785], dtype=jnp.int64)),\n",
    "    rlwe.PR_c(jnp.array([-4714838,  14354028,  14740381, -18264677], dtype=jnp.int64)),\n",
    "]"
   ]
  },
  {
   "cell_type": "code",
   "execution_count": 5,
   "metadata": {},
   "outputs": [
    {
     "name": "stdout",
     "output_type": "stream",
     "text": [
      "Polynomial ring: [-1833553. 33259835. -8886793.  7344785.] (mod 67108289), reminder range: (-33554145, 33554144]\n"
     ]
    },
    {
     "data": {
      "text/plain": [
       "Polynomial ring: [186. 224.   3. -33.] (mod 67108289), reminder range: (-33554145, 33554144]"
      ]
     },
     "execution_count": 5,
     "metadata": {},
     "output_type": "execute_result"
    }
   ],
   "source": [
    "c = [ci * sec**i for i, ci in enumerate(c)]\n",
    "m = c[0]\n",
    "print(m)\n",
    "for i in range(1, len(c)):\n",
    "    m += c[i]\n",
    "m"
   ]
  },
  {
   "cell_type": "code",
   "execution_count": 33,
   "metadata": {},
   "outputs": [
    {
     "data": {
      "text/plain": [
       "Polynomial ring: [1 2 3 4] (mod 67108289), reminder range: (-33554145, 33554144]"
      ]
     },
     "execution_count": 33,
     "metadata": {},
     "output_type": "execute_result"
    }
   ],
   "source": [
    "sec"
   ]
  },
  {
   "cell_type": "code",
   "execution_count": 32,
   "metadata": {},
   "outputs": [
    {
     "data": {
      "text/plain": [
       "Polynomial ring: [-10932312. -12931268.  27334992. -15933692.] (mod 67108289), reminder range: (-33554145, 33554144]"
      ]
     },
     "execution_count": 32,
     "metadata": {},
     "output_type": "execute_result"
    }
   ],
   "source": [
    "c[1]"
   ]
  },
  {
   "cell_type": "code",
   "execution_count": 31,
   "metadata": {},
   "outputs": [
    {
     "data": {
      "text/plain": [
       "Polynomial ring: [ 23321524.   9344832.  29226496. -32410288.] (mod 67108289), reminder range: (-33554145, 33554144]"
      ]
     },
     "execution_count": 31,
     "metadata": {},
     "output_type": "execute_result"
    }
   ],
   "source": [
    "c[1] * sec"
   ]
  },
  {
   "cell_type": "code",
   "execution_count": 36,
   "metadata": {},
   "outputs": [
    {
     "data": {
      "text/plain": [
       "Polynomial ring: [  6. -15.  10.   1.] (mod 37), reminder range: (-19, 18]"
      ]
     },
     "execution_count": 36,
     "metadata": {},
     "output_type": "execute_result"
    }
   ],
   "source": [
    "rlwe.decrypt(c, sec)"
   ]
  },
  {
   "cell_type": "code",
   "execution_count": 5,
   "metadata": {},
   "outputs": [],
   "source": [
    "sec = rlwe.PR_c(jnp.array([1, 2, 3, 4]))"
   ]
  },
  {
   "cell_type": "code",
   "execution_count": 14,
   "metadata": {},
   "outputs": [
    {
     "data": {
      "text/plain": [
       "Polynomial ring: [ 24.  18. -19. -21.] (mod 51), reminder range: (-26, 25]"
      ]
     },
     "execution_count": 14,
     "metadata": {},
     "output_type": "execute_result"
    }
   ],
   "source": [
    "c = rlwe.encrypt(m0, pub)\n",
    "rlwe.decrypt(c, sec)"
   ]
  },
  {
   "cell_type": "code",
   "execution_count": 15,
   "metadata": {},
   "outputs": [
    {
     "data": {
      "text/plain": [
       "(Polynomial ring: [-15665732. -17972076.  14157416.  -5967392.] (mod 67108289), reminder range: (-33554145, 33554144],\n",
       " Polynomial ring: [ 22481176.  -9825540.  15656804. -10568664.] (mod 67108289), reminder range: (-33554145, 33554144])"
      ]
     },
     "execution_count": 15,
     "metadata": {},
     "output_type": "execute_result"
    }
   ],
   "source": [
    "c"
   ]
  },
  {
   "cell_type": "code",
   "execution_count": 33,
   "metadata": {},
   "outputs": [],
   "source": [
    "c0 = rlwe.encrypt(m0, pub)\n",
    "c1 = rlwe.encrypt(m1, pub)\n",
    "\n",
    "m_0 = rlwe.decrypt(c0, sec)\n",
    "m_1 = rlwe.decrypt(c1, sec)\n"
   ]
  },
  {
   "cell_type": "code",
   "execution_count": 34,
   "metadata": {},
   "outputs": [
    {
     "data": {
      "text/plain": [
       "Polynomial ring: [1112. 2012. 3008. 4010.] (mod 300001), reminder range: (-150001, 150000]"
      ]
     },
     "execution_count": 34,
     "metadata": {},
     "output_type": "execute_result"
    }
   ],
   "source": [
    "c_add = rlwe.add(c0, c1)\n",
    "rlwe.decrypt(c_add, sec)"
   ]
  },
  {
   "cell_type": "code",
   "execution_count": 30,
   "metadata": {},
   "outputs": [
    {
     "data": {
      "text/plain": [
       "Polynomial ring: [-10. -17. -17.   5.] (mod 37), reminder range: (-19, 18]"
      ]
     },
     "execution_count": 30,
     "metadata": {},
     "output_type": "execute_result"
    }
   ],
   "source": [
    "c_mul = rlwe.mul(c0, c1)\n",
    "rlwe.decrypt(c_mul, sec)"
   ]
  },
  {
   "cell_type": "code",
   "execution_count": 29,
   "metadata": {},
   "outputs": [
    {
     "data": {
      "text/plain": [
       "Polynomial ring: [11112. 22222. 33332. 44444.] (mod 300001), reminder range: (-150001, 150000]"
      ]
     },
     "execution_count": 29,
     "metadata": {},
     "output_type": "execute_result"
    }
   ],
   "source": [
    "m_0"
   ]
  },
  {
   "cell_type": "code",
   "execution_count": 17,
   "metadata": {},
   "outputs": [
    {
     "data": {
      "text/plain": [
       "(Polynomial ring: [ 4. -2.  0. -2.] (mod 67108289), reminder range: (-33554145, 33554144],\n",
       " (Polynomial ring: [-15665892. -17972024.  14157384.  -5967360.] (mod 67108289), reminder range: (-33554145, 33554144],\n",
       "  Polynomial ring: [ 22481176  -9825540  15656803 -10568717] (mod 67108289), reminder range: (-33554145, 33554144]))"
      ]
     },
     "execution_count": 17,
     "metadata": {},
     "output_type": "execute_result"
    }
   ],
   "source": [
    "rlwe.generate_keys()"
   ]
  },
  {
   "cell_type": "code",
   "execution_count": 32,
   "metadata": {},
   "outputs": [
    {
     "data": {
      "text/plain": [
       "array([19, 10, 17, 10,  6,  8, 24, 36])"
      ]
     },
     "execution_count": 32,
     "metadata": {},
     "output_type": "execute_result"
    }
   ],
   "source": [
    "m0"
   ]
  },
  {
   "cell_type": "code",
   "execution_count": 91,
   "metadata": {},
   "outputs": [
    {
     "name": "stdout",
     "output_type": "stream",
     "text": [
      "Polynomial ring: [ 7 17 11  2 -6  6  9 12] (mod 37), reminder range: (-19, 18]\n",
      "Polynomial ring: [ 7 17 11  2 -6  6  9 12] (mod 37), reminder range: (-19, 18]\n",
      "\n",
      "Polynomial ring: [ 12  18   0   1 -14   4  13  -4] (mod 37), reminder range: (-19, 18]\n",
      "Polynomial ring: [ 12  18   0   1 -14   4  13  -4] (mod 37), reminder range: (-19, 18]\n",
      "\n",
      "# Add\n",
      "Polynomial ring: [-18  -2  11   3  17  10 -15   8] (mod 37), reminder range: (-19, 18]\n",
      "Polynomial ring: [-18  -2  11   3  17  10 -15   8] (mod 37), reminder range: (-19, 18]\n",
      "\n",
      "# Mul\n",
      "Polynomial ring: [ -9   9  -3  15   0  -1 -15 -12] (mod 37), reminder range: (-19, 18]\n",
      "Polynomial ring: [ -9   9  -3  15   0  -1 -15 -12] (mod 37), reminder range: (-19, 18]\n",
      "\n"
     ]
    }
   ],
   "source": [
    "import numpy as np\n",
    "\n",
    "n = 8  # power of 2\n",
    "q = 67108289  # prime number, q = 1 (mod 2n)\n",
    "t = 37  # prime number, t < q\n",
    "std = 3  # standard deviation of Gaussian distribution\n",
    "\n",
    "rlwe = RLWE(n, q, t, std)\n",
    "(sec, pub) = rlwe.generate_keys()\n",
    "\n",
    "m0 = np.random.randint(50, size=n)  # plaintext\n",
    "m1 = np.random.randint(50, size=n)  # plaintext\n",
    "\n",
    "rm0 = rlwe.PR_p(m0)\n",
    "rm1 = rlwe.PR_p(m1)\n",
    "\n",
    "c0 = rlwe.encrypt(m0, pub)\n",
    "c1 = rlwe.encrypt(m1, pub)\n",
    "\n",
    "m_0 = rlwe.decrypt(c0, sec)\n",
    "m_1 = rlwe.decrypt(c1, sec)\n",
    "\n",
    "print(rm0)\n",
    "print(m_0)\n",
    "print()\n",
    "\n",
    "print(rm1)\n",
    "print(m_1)\n",
    "print()\n",
    "\n",
    "print('# Add')\n",
    "print(rm0 + rm1)\n",
    "\n",
    "c_add = rlwe.add(c0, c1)\n",
    "m_add = rlwe.decrypt(c_add, sec)\n",
    "print(m_add)\n",
    "print()\n",
    "\n",
    "print('# Mul')\n",
    "print(rm0 * rm1)\n",
    "\n",
    "c_mul = rlwe.mul(c0, c1)\n",
    "m_mul = rlwe.decrypt(c_mul, sec)\n",
    "print(m_mul)\n",
    "print()\n"
   ]
  },
  {
   "cell_type": "code",
   "execution_count": 73,
   "metadata": {},
   "outputs": [
    {
     "data": {
      "text/plain": [
       "(array([47, 15, 41, 42, 42, 20, 26,  1]),\n",
       " array([43, 49,  9, 19, 21, 32, 40, 15]))"
      ]
     },
     "execution_count": 73,
     "metadata": {},
     "output_type": "execute_result"
    }
   ],
   "source": [
    "m0, m1"
   ]
  }
 ],
 "metadata": {
  "interpreter": {
   "hash": "cf8934f4a6d3b9684e2485c6bd5e1b906b167532c92da3f2906f8e5936170076"
  },
  "kernelspec": {
   "display_name": "Python 3.8.0 ('jax')",
   "language": "python",
   "name": "python3"
  },
  "language_info": {
   "codemirror_mode": {
    "name": "ipython",
    "version": 3
   },
   "file_extension": ".py",
   "mimetype": "text/x-python",
   "name": "python",
   "nbconvert_exporter": "python",
   "pygments_lexer": "ipython3",
   "version": "3.8.0"
  },
  "orig_nbformat": 4
 },
 "nbformat": 4,
 "nbformat_minor": 2
}
