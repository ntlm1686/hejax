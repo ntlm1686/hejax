{
 "cells": [
  {
   "cell_type": "code",
   "execution_count": 38,
   "metadata": {},
   "outputs": [],
   "source": [
    "import jax\n",
    "import jax.numpy as jnp\n",
    "from jax import jit\n",
    "from functools import partial, reduce\n",
    "from jax.lax import scan\n",
    "from typing import List\n",
    "\n",
    "from ckks.encoder import Encoder\n",
    "from ckks.encryptor import Encryptor\n",
    "from ckks.context import Context\n",
    "from ckks.cipher import Cipher\n",
    "from ckks.utils import *"
   ]
  },
  {
   "cell_type": "markdown",
   "metadata": {},
   "source": [
    "## Encryptor"
   ]
  },
  {
   "cell_type": "code",
   "execution_count": 240,
   "metadata": {},
   "outputs": [],
   "source": [
    "M = 4*2\n",
    "SCALE = 64\n",
    "P = 1024\n",
    "q = 11\n",
    "LAMBDA = 10\n",
    "p = 2 \n",
    "l = 3\n",
    "L = 17\n",
    "ql = (p**l) * q"
   ]
  },
  {
   "cell_type": "code",
   "execution_count": 241,
   "metadata": {},
   "outputs": [
    {
     "name": "stdout",
     "output_type": "stream",
     "text": [
      "1441792\n",
      "[DeviceArray([ 440102., -526757.,  415383., -679460.], dtype=float32), DeviceArray([ 494704,  316153, -147435, -439674], dtype=int32)]\n"
     ]
    }
   ],
   "source": [
    "ctx = Context(M, SCALE, q, p, l, L, P)\n",
    "encoder = Encoder(M, SCALE)\n",
    "encryptor = Encryptor(ctx)\n",
    "print(encryptor.Q)\n",
    "print(encryptor.pub_key)"
   ]
  },
  {
   "cell_type": "code",
   "execution_count": 242,
   "metadata": {},
   "outputs": [
    {
     "data": {
      "text/plain": [
       "([DeviceArray([ 440213., -526979.,  415716., -679016.], dtype=float32),\n",
       "  DeviceArray([ 494704,  316153, -147435, -439674], dtype=int32)],\n",
       " DeviceArray([ 111., -222.,  333.,  444.], dtype=float32))"
      ]
     },
     "execution_count": 242,
     "metadata": {},
     "output_type": "execute_result"
    }
   ],
   "source": [
    "fake = jnp.array([111, -222, 333, 444])\n",
    "encryptor.encrypt(fake),\\\n",
    "encryptor.decrypt(encryptor.encrypt(fake), L)"
   ]
  },
  {
   "cell_type": "code",
   "execution_count": 243,
   "metadata": {},
   "outputs": [],
   "source": [
    "m1 = jnp.array([111,222])\n",
    "m2 = jnp.array([999,20])\n",
    "\n",
    "encrypt = lambda x: encryptor.encrypt(encoder.encode(x))\n",
    "decrypt = lambda x: encoder.decode(encryptor.decrypt(x, L)) # L ~ first time encryption"
   ]
  },
  {
   "cell_type": "code",
   "execution_count": 244,
   "metadata": {},
   "outputs": [],
   "source": [
    "e1 = encoder.encode(m1)\n",
    "e2 = encoder.encode(m2)\n",
    "\n",
    "c1 = encryptor.encrypt(e1)\n",
    "c2 = encryptor.encrypt(e2)"
   ]
  },
  {
   "cell_type": "code",
   "execution_count": 245,
   "metadata": {},
   "outputs": [
    {
     "data": {
      "text/plain": [
       "DeviceArray([ 32608,  22152,      0, -22152], dtype=int32)"
      ]
     },
     "execution_count": 245,
     "metadata": {},
     "output_type": "execute_result"
    }
   ],
   "source": [
    "e2"
   ]
  },
  {
   "cell_type": "code",
   "execution_count": 246,
   "metadata": {},
   "outputs": [
    {
     "data": {
      "text/plain": [
       "(DeviceArray([110.99211-9.5367432e-06j, 222.00787+2.4795532e-05j], dtype=complex64),\n",
       " DeviceArray([998.9947  +7.6293945e-05j,  20.005432-1.8310547e-04j], dtype=complex64))"
      ]
     },
     "execution_count": 246,
     "metadata": {},
     "output_type": "execute_result"
    }
   ],
   "source": [
    "decrypt(c1), decrypt(c2)"
   ]
  },
  {
   "cell_type": "markdown",
   "metadata": {},
   "source": [
    "## Arithmetic"
   ]
  },
  {
   "cell_type": "markdown",
   "metadata": {},
   "source": [
    "### ADD"
   ]
  },
  {
   "cell_type": "code",
   "execution_count": 247,
   "metadata": {},
   "outputs": [],
   "source": [
    "def cipheradd(cipher1, cipher2):\n",
    "    return [\n",
    "        shift_mod(jnp.polyadd(cipher1[0],cipher2[0]), encryptor.Q) , \n",
    "        shift_mod(jnp.polyadd(cipher1[1],cipher2[1]), encryptor.Q),\n",
    "    ]"
   ]
  },
  {
   "cell_type": "code",
   "execution_count": 248,
   "metadata": {},
   "outputs": [],
   "source": [
    "mulc = cipheradd(c1, c2)"
   ]
  },
  {
   "cell_type": "code",
   "execution_count": 249,
   "metadata": {},
   "outputs": [
    {
     "data": {
      "text/plain": [
       "DeviceArray([1109.9868+7.6293945e-05j,  242.0133-1.6784668e-04j], dtype=complex64)"
      ]
     },
     "execution_count": 249,
     "metadata": {},
     "output_type": "execute_result"
    }
   ],
   "source": [
    "decrypt(mulc)"
   ]
  },
  {
   "cell_type": "markdown",
   "metadata": {},
   "source": [
    "### Constant Multiplication"
   ]
  },
  {
   "cell_type": "code",
   "execution_count": 250,
   "metadata": {},
   "outputs": [
    {
     "data": {
      "text/plain": [
       "[DeviceArray([ 440113., -526735.,  415416., -679416.], dtype=float32),\n",
       " DeviceArray([ 494704,  316153, -147435, -439674], dtype=int32)]"
      ]
     },
     "execution_count": 250,
     "metadata": {},
     "output_type": "execute_result"
    }
   ],
   "source": [
    "f1 = jnp.array([11,22,33,44])\n",
    "f2 = jnp.array([0,0,0,1])\n",
    "\n",
    "ef1 = encryptor.encrypt(f1)\n",
    "ef2 = encryptor.encrypt(f2)\n",
    "ef1"
   ]
  },
  {
   "cell_type": "code",
   "execution_count": 251,
   "metadata": {},
   "outputs": [],
   "source": [
    "def ciphermul_constant(cipher, constant):\n",
    "    return [\n",
    "        shift_mod(ring_polymul(cipher[0], constant, encryptor.modulo)[-4:], encryptor.Q),\n",
    "        shift_mod(ring_polymul(cipher[1], constant, encryptor.modulo)[-4:], encryptor.Q),\n",
    "    ]"
   ]
  },
  {
   "cell_type": "code",
   "execution_count": 252,
   "metadata": {},
   "outputs": [
    {
     "data": {
      "text/plain": [
       "DeviceArray([ 440113., -526735.,  415416., -679416.], dtype=float32)"
      ]
     },
     "execution_count": 252,
     "metadata": {},
     "output_type": "execute_result"
    }
   ],
   "source": [
    "ring_polymul(ef1[0], f2, get_modulo(4))[-4:]"
   ]
  },
  {
   "cell_type": "code",
   "execution_count": 253,
   "metadata": {},
   "outputs": [
    {
     "data": {
      "text/plain": [
       "[DeviceArray([ 440113., -526735.,  415416., -679416.], dtype=float32),\n",
       " DeviceArray([ 494704.,  316153., -147435., -439674.], dtype=float32)]"
      ]
     },
     "execution_count": 253,
     "metadata": {},
     "output_type": "execute_result"
    }
   ],
   "source": [
    "mulc = ciphermul_constant(ef1, f2)\n",
    "mulc"
   ]
  },
  {
   "cell_type": "code",
   "execution_count": 254,
   "metadata": {},
   "outputs": [
    {
     "data": {
      "text/plain": [
       "DeviceArray([11., 22., 33., 44.], dtype=float32)"
      ]
     },
     "execution_count": 254,
     "metadata": {},
     "output_type": "execute_result"
    }
   ],
   "source": [
    "encryptor.decrypt(mulc, L) #+ ctx.Q//2"
   ]
  },
  {
   "cell_type": "code",
   "execution_count": 255,
   "metadata": {},
   "outputs": [
    {
     "data": {
      "text/plain": [
       "DeviceArray([ 0.,  0.,  0., 11., 22., 33., 44.], dtype=float32)"
      ]
     },
     "execution_count": 255,
     "metadata": {},
     "output_type": "execute_result"
    }
   ],
   "source": [
    "jnp.polydiv(jnp.polymul(f1, f2), get_modulo(4))[1]"
   ]
  },
  {
   "cell_type": "markdown",
   "metadata": {},
   "source": [
    "### Cipher Multiplication"
   ]
  },
  {
   "cell_type": "code",
   "execution_count": 256,
   "metadata": {},
   "outputs": [],
   "source": [
    "def mod(x): return shift_mod(x, ctx.Q)\n",
    "_mul = lambda x, y: ring_polymul(x, y, ctx.modulo)[-4:]\n",
    "_modmul = lambda x, y: mod(ring_polymul(x, y, ctx.modulo)[-4:])\n",
    "def mul(*args):\n",
    "    return reduce(_mul, args)\n",
    "\n",
    "def modmul(*args):\n",
    "    return reduce(_modmul, args)"
   ]
  },
  {
   "cell_type": "code",
   "execution_count": 289,
   "metadata": {},
   "outputs": [],
   "source": [
    "\n",
    "def ciphermul(ct1, ct2):\n",
    "    return [\n",
    "        modmul(ct1[0], ct2[0]),\n",
    "        mod(mul(ct1[0], ct2[1]) + mul(ct1[1], ct2[0])),\n",
    "        modmul(ct1[1], ct2[1]),\n",
    "    ]\n",
    "\n",
    "def relinear(ct):\n",
    "    return [\n",
    "        mod(ct[0] + 1/ctx.P * mod(jnp.around(mul(ct[2], ctx.evk[0])))),\n",
    "        mod(ct[1] + 1/ctx.P * mod(jnp.around(mul(ct[2], ctx.evk[1])))),\n",
    "    ]\n",
    "\n",
    "def cmul(ct1, ct2):\n",
    "    return relinear(ciphermul(ct1, ct2))"
   ]
  },
  {
   "cell_type": "code",
   "execution_count": 290,
   "metadata": {},
   "outputs": [
    {
     "data": {
      "text/plain": [
       "DeviceArray([-36.,  56., -52.,  17.], dtype=float32)"
      ]
     },
     "execution_count": 290,
     "metadata": {},
     "output_type": "execute_result"
    }
   ],
   "source": [
    "ring_polymul(ctx.sk, ctx.sk, ctx.modulo)[-4:]"
   ]
  },
  {
   "cell_type": "code",
   "execution_count": 291,
   "metadata": {},
   "outputs": [],
   "source": [
    "f1 = jnp.array([1,2,3,4])\n",
    "f2 = jnp.array([0,0,0,2])\n",
    "\n",
    "cf1 = encryptor.encrypt(f1)\n",
    "cf2 = encryptor.encrypt(f2)"
   ]
  },
  {
   "cell_type": "code",
   "execution_count": 292,
   "metadata": {},
   "outputs": [],
   "source": [
    "ct = cmul(cf1, cf2)"
   ]
  },
  {
   "cell_type": "code",
   "execution_count": 293,
   "metadata": {},
   "outputs": [
    {
     "data": {
      "text/plain": [
       "[DeviceArray([-196800.,  393024.,  229312.,   97600.], dtype=float32),\n",
       " DeviceArray([ 1.31264e+05, -2.62592e+05,  3.35808e+05, -6.40000e+01], dtype=float32)]"
      ]
     },
     "execution_count": 293,
     "metadata": {},
     "output_type": "execute_result"
    }
   ],
   "source": [
    "ct"
   ]
  },
  {
   "cell_type": "code",
   "execution_count": 294,
   "metadata": {},
   "outputs": [
    {
     "data": {
      "text/plain": [
       "DeviceArray([ 232064.,  211200., -204544., -178048.], dtype=float32)"
      ]
     },
     "execution_count": 294,
     "metadata": {},
     "output_type": "execute_result"
    }
   ],
   "source": [
    "encryptor.decrypt(ct, L)"
   ]
  },
  {
   "cell_type": "code",
   "execution_count": 295,
   "metadata": {},
   "outputs": [
    {
     "data": {
      "text/plain": [
       "(DeviceArray([1., 2., 3., 4.], dtype=float32),\n",
       " DeviceArray([0., 0., 0., 2.], dtype=float32))"
      ]
     },
     "execution_count": 295,
     "metadata": {},
     "output_type": "execute_result"
    }
   ],
   "source": [
    "shift_mod(cf1[0] + ring_polymul(cf1[1], ctx.sk, ctx.modulo)[-4:], ctx.Q) ,\\\n",
    "shift_mod(cf2[0] + ring_polymul(cf2[1], ctx.sk, ctx.modulo)[-4:], ctx.Q)"
   ]
  },
  {
   "cell_type": "code",
   "execution_count": 264,
   "metadata": {},
   "outputs": [
    {
     "data": {
      "text/plain": [
       "DeviceArray([  65536., -720896.,  -65536., -589824.], dtype=float32)"
      ]
     },
     "execution_count": 264,
     "metadata": {},
     "output_type": "execute_result"
    }
   ],
   "source": [
    "shift_mod(\n",
    "    mul(cf1[1], cf2[1], ctx.sk, ctx.sk) \\\n",
    "        + mul(cf1[0], cf2[1], ctx.sk) \\\n",
    "        + mul(cf1[1], cf2[0], ctx.sk) \\\n",
    "        + mul(cf1[0], cf2[0]),\n",
    "    ctx.Q)"
   ]
  },
  {
   "cell_type": "code",
   "execution_count": 265,
   "metadata": {},
   "outputs": [
    {
     "data": {
      "text/plain": [
       "DeviceArray([2., 4., 6., 8.], dtype=float32)"
      ]
     },
     "execution_count": 265,
     "metadata": {},
     "output_type": "execute_result"
    }
   ],
   "source": [
    "mod(\n",
    "    mul(\n",
    "        mod(cf1[0] + mul(cf1[1], ctx.sk)),\n",
    "        mod(cf2[0] + mul(cf2[1], ctx.sk)),\n",
    "    )\n",
    ")"
   ]
  },
  {
   "cell_type": "code",
   "execution_count": 266,
   "metadata": {},
   "outputs": [
    {
     "data": {
      "text/plain": [
       "DeviceArray([65536.,     0., 65536., 32768.], dtype=float32)"
      ]
     },
     "execution_count": 266,
     "metadata": {},
     "output_type": "execute_result"
    }
   ],
   "source": [
    "a, b = cf1[0], modmul(cf1[1], ctx.sk)\n",
    "c, d = cf2[0], modmul(cf2[1], ctx.sk)\n",
    "\n",
    "mod(\n",
    "    modmul(a,c) + modmul(b,d) + modmul(a,d) + modmul(b,c)\n",
    ")"
   ]
  },
  {
   "cell_type": "code",
   "execution_count": 267,
   "metadata": {},
   "outputs": [
    {
     "data": {
      "text/plain": [
       "DeviceArray([2., 4., 6., 8.], dtype=float32)"
      ]
     },
     "execution_count": 267,
     "metadata": {},
     "output_type": "execute_result"
    }
   ],
   "source": [
    "mul(\n",
    "    mod(a+b),\n",
    "    mod(c+d)\n",
    ")"
   ]
  },
  {
   "cell_type": "code",
   "execution_count": 268,
   "metadata": {},
   "outputs": [
    {
     "data": {
      "text/plain": [
       "DeviceArray([-1.2976126e+07, -2.0787714e+12, -4.1575241e+12,\n",
       "             -2.0787570e+12], dtype=float32)"
      ]
     },
     "execution_count": 268,
     "metadata": {},
     "output_type": "execute_result"
    }
   ],
   "source": [
    "mul(\n",
    "    cf1[0] + mul(cf1[1], ctx.sk),\n",
    "    cf2[0] + mul(cf2[1], ctx.sk),\n",
    ")"
   ]
  },
  {
   "cell_type": "code",
   "execution_count": 269,
   "metadata": {},
   "outputs": [
    {
     "data": {
      "text/plain": [
       "(DeviceArray([ 494704,  316153, -147435, -439674], dtype=int32),\n",
       " DeviceArray([ 494704,  316153, -147435, -439674], dtype=int32))"
      ]
     },
     "execution_count": 269,
     "metadata": {},
     "output_type": "execute_result"
    }
   ],
   "source": [
    "cf1[1], ctx.a"
   ]
  },
  {
   "cell_type": "code",
   "execution_count": 223,
   "metadata": {},
   "outputs": [
    {
     "data": {
      "text/plain": [
       "2"
      ]
     },
     "execution_count": 223,
     "metadata": {},
     "output_type": "execute_result"
    }
   ],
   "source": [
    "(3 * 4) % 5"
   ]
  }
 ],
 "metadata": {
  "interpreter": {
   "hash": "cf8934f4a6d3b9684e2485c6bd5e1b906b167532c92da3f2906f8e5936170076"
  },
  "kernelspec": {
   "display_name": "Python 3.8.0 ('jax')",
   "language": "python",
   "name": "python3"
  },
  "language_info": {
   "codemirror_mode": {
    "name": "ipython",
    "version": 3
   },
   "file_extension": ".py",
   "mimetype": "text/x-python",
   "name": "python",
   "nbconvert_exporter": "python",
   "pygments_lexer": "ipython3",
   "version": "3.8.0"
  },
  "orig_nbformat": 4
 },
 "nbformat": 4,
 "nbformat_minor": 2
}
