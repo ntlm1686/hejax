{
 "cells": [
  {
   "cell_type": "code",
   "execution_count": 3,
   "metadata": {},
   "outputs": [],
   "source": [
    "import jax\n",
    "import jax.numpy as jnp\n",
    "\n",
    "from ckks.encoder import Encoder\n",
    "from ckks.encryptor import Encryptor\n",
    "from ckks.context import Context\n",
    "from ckks.cipher import Cipher\n",
    "from ckks.utils import *"
   ]
  },
  {
   "cell_type": "code",
   "execution_count": 4,
   "metadata": {},
   "outputs": [],
   "source": [
    "M = 4*2\n",
    "SCALE = 64\n",
    "P = 1024\n",
    "q = 10\n",
    "LAMBDA = 10\n",
    "p = 2 \n",
    "l = 3\n",
    "L = 10\n",
    "ql = (p**l) * q"
   ]
  },
  {
   "cell_type": "code",
   "execution_count": 6,
   "metadata": {},
   "outputs": [],
   "source": [
    "ctx = Context(M, SCALE, q, p, l, L, P)\n",
    "encoder = Encoder(M, SCALE)\n",
    "encryptor = Encryptor(ctx)"
   ]
  },
  {
   "cell_type": "code",
   "execution_count": 4,
   "metadata": {},
   "outputs": [],
   "source": [
    "m1 = jnp.array([111,222])\n",
    "m2 = jnp.array([999,20])\n",
    "\n",
    "encrypt = lambda x: encryptor.encrypt(encoder.encode(x))\n",
    "decrypt = lambda x: encoder.decode(encryptor.decrypt(x))"
   ]
  },
  {
   "cell_type": "code",
   "execution_count": 5,
   "metadata": {},
   "outputs": [],
   "source": [
    "e1 = encoder.encode(m1)\n",
    "e2 = encoder.encode(m2)\n",
    "\n",
    "c1 = encryptor.encrypt(e1)\n",
    "c2 = encryptor.encrypt(e2)"
   ]
  },
  {
   "cell_type": "code",
   "execution_count": 6,
   "metadata": {},
   "outputs": [
    {
     "data": {
      "text/plain": [
       "DeviceArray([1000.401   -1.470932j ,   19.224121-1.1587372j], dtype=complex64)"
      ]
     },
     "execution_count": 6,
     "metadata": {},
     "output_type": "execute_result"
    }
   ],
   "source": [
    "decrypt(c2)"
   ]
  },
  {
   "cell_type": "code",
   "execution_count": 7,
   "metadata": {},
   "outputs": [
    {
     "data": {
      "text/plain": [
       "[DeviceArray([ 0.0000e+00,  0.0000e+00,  0.0000e+00,  1.0662e+04,\n",
       "              -2.5070e+03,  6.0000e+00,  2.5160e+03], dtype=float32),\n",
       " DeviceArray([8, 1, 7, 0], dtype=int32)]"
      ]
     },
     "execution_count": 7,
     "metadata": {},
     "output_type": "execute_result"
    }
   ],
   "source": [
    "c1"
   ]
  },
  {
   "cell_type": "code",
   "execution_count": 8,
   "metadata": {},
   "outputs": [],
   "source": [
    "def cipheradd(cipher1, cipher2, modulo):\n",
    "    return [\n",
    "        jnp.polyadd(cipher1[0],cipher2[0]) , \n",
    "        jnp.polyadd(cipher1[1],cipher2[1]) ,\n",
    "    ]"
   ]
  },
  {
   "cell_type": "code",
   "execution_count": 9,
   "metadata": {},
   "outputs": [],
   "source": [
    "mulc = cipheradd(c1, c2, get_modulo(4))"
   ]
  },
  {
   "cell_type": "code",
   "execution_count": 10,
   "metadata": {},
   "outputs": [
    {
     "data": {
      "text/plain": [
       "[DeviceArray([ 0.0000e+00,  0.0000e+00,  0.0000e+00,  4.3276e+04,\n",
       "               1.9650e+04,  1.2000e+01, -1.9632e+04], dtype=float32),\n",
       " DeviceArray([16,  2, 14,  0], dtype=int32)]"
      ]
     },
     "execution_count": 10,
     "metadata": {},
     "output_type": "execute_result"
    }
   ],
   "source": [
    "mulc"
   ]
  },
  {
   "cell_type": "code",
   "execution_count": 16,
   "metadata": {},
   "outputs": [
    {
     "data": {
      "text/plain": [
       "DeviceArray([1112.7994 -2.9419556j,  240.45068-2.3172607j], dtype=complex64)"
      ]
     },
     "execution_count": 16,
     "metadata": {},
     "output_type": "execute_result"
    }
   ],
   "source": [
    "decrypt(mulc)"
   ]
  },
  {
   "cell_type": "code",
   "execution_count": 185,
   "metadata": {},
   "outputs": [],
   "source": [
    "import jax\n",
    "import jax.numpy as jnp\n",
    "from typing import List\n",
    "\n",
    "from ckks.utils import get_modulo\n",
    "\n",
    "\n",
    "def cipheradd(cipher1, cipher2, modulo):\n",
    "    return [\n",
    "        jnp.polydiv(jnp.polyadd(cipher1[0],cipher2[0]), modulo)[1],\n",
    "        jnp.polydiv(jnp.polyadd(cipher1[0],cipher2[0]), modulo)[1],\n",
    "    ]\n",
    "\n",
    "def ciphersub(cipher1, cipher2, modulo):\n",
    "    return [\n",
    "        jnp.polydiv(jnp.polysub(cipher1[0],cipher2[0]), modulo)[1],\n",
    "        jnp.polydiv(jnp.polysub(cipher1[0],cipher2[0]), modulo)[1],\n",
    "    ]\n",
    "\n",
    "def ciphermul(cipher1, cipher2, modulo):\n",
    "    return [\n",
    "        jnp.polydiv(jnp.polymul(cipher1[0],cipher2[0]), modulo)[1],\n",
    "        jnp.polydiv(jnp.polymul(cipher1[0],cipher2[1]), modulo)[1] + \\\n",
    "        jnp.polydiv(jnp.polymul(cipher1[1],cipher2[0]), modulo)[1],\n",
    "        jnp.polydiv(jnp.polymul(cipher1[1],cipher2[1]), modulo)[1],\n",
    "    ]\n",
    "\n",
    "def ciphermul_constant(cipher, constant, modulo):\n",
    "    return [\n",
    "        jnp.polydiv(jnp.polymul(cipher[0], constant), modulo)[1],\n",
    "        jnp.polydiv(jnp.polymul(cipher[1], constant), modulo)[1],\n",
    "    ]\n",
    "\n",
    "def relinearize(c_mult, evk, p, modulo):\n",
    "    P = [\n",
    "        1/p * jnp.polydiv(jnp.polymul(c_mult[2], evk[0]), modulo)[1],\n",
    "        1/p * jnp.polydiv(jnp.polymul(c_mult[2], evk[1]), modulo)[1]\n",
    "    ]\n",
    "    return [\n",
    "        jnp.polyadd(jnp.polydiv(jnp.polymul(c_mult[0],P), modulo)[1], P[0]),\n",
    "        jnp.polyadd(jnp.polydiv(jnp.polymul(c_mult[1],P), modulo)[1], P[1]),\n",
    "    ]\n",
    "\n",
    "class Cipher:\n",
    "    _add = staticmethod(cipheradd)\n",
    "    _sub = staticmethod(ciphersub)\n",
    "    _mul = staticmethod(ciphermul)\n",
    "    _mul_constant = staticmethod(ciphermul_constant)\n",
    "    _relin = staticmethod(relinearize)\n",
    "\n",
    "    def __init__(self, content: List[jnp.array], modulo) -> None:\n",
    "        self.content = content\n",
    "        if isinstance(modulo, jnp.ndarray):\n",
    "            self.modulo = modulo\n",
    "        elif isinstance(modulo, int):\n",
    "            self.modulo = get_modulo(modulo)\n",
    "        self.depth = 1\n",
    "\n",
    "\n",
    "    def __mul__(self, other):\n",
    "        if isinstance(other, Cipher):\n",
    "            c_mult = self._mul(self, self.content, other.content, self.modulo)\n",
    "            content = self._relin(c_mult, self.evk)\n",
    "        elif isinstance(other, jnp.array):\n",
    "            content = self._mul_constant(self.content, other, self.modulo)\n",
    "        return self.__class__(content, self.modulo)\n",
    "    \n",
    "    def __add__(self, other):\n",
    "        if isinstance(other, Cipher):\n",
    "            content = self._add(self.content, other.content, self.modulo)\n",
    "        else:\n",
    "            raise NotImplementedError\n",
    "        return self.__class__(content, self.modulo)\n",
    "    \n",
    "    def __sub__(self, other):\n",
    "        if isinstance(other, Cipher):\n",
    "            content = self._sub(self.content, other.content, self.modulo)\n",
    "        else:\n",
    "            raise NotImplementedError\n",
    "        return self.__class__(content, self.modulo)"
   ]
  },
  {
   "cell_type": "code",
   "execution_count": null,
   "metadata": {},
   "outputs": [],
   "source": []
  }
 ],
 "metadata": {
  "interpreter": {
   "hash": "cf8934f4a6d3b9684e2485c6bd5e1b906b167532c92da3f2906f8e5936170076"
  },
  "kernelspec": {
   "display_name": "Python 3.8.0 ('jax')",
   "language": "python",
   "name": "python3"
  },
  "language_info": {
   "codemirror_mode": {
    "name": "ipython",
    "version": 3
   },
   "file_extension": ".py",
   "mimetype": "text/x-python",
   "name": "python",
   "nbconvert_exporter": "python",
   "pygments_lexer": "ipython3",
   "version": "3.8.0"
  },
  "orig_nbformat": 4
 },
 "nbformat": 4,
 "nbformat_minor": 2
}
