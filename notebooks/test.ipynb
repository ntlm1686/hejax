{
 "cells": [
  {
   "cell_type": "code",
   "execution_count": 1,
   "metadata": {},
   "outputs": [],
   "source": [
    "import jax\n",
    "import jax.numpy as jnp\n",
    "from jax import jit\n",
    "from functools import partial\n",
    "from jax.lax import scan\n",
    "from typing import List\n",
    "\n",
    "from ckks.encoder import Encoder\n",
    "from ckks.encryptor import Encryptor\n",
    "from ckks.context import Context\n",
    "from ckks.cipher import Cipher\n",
    "from ckks.utils import *"
   ]
  },
  {
   "cell_type": "markdown",
   "metadata": {},
   "source": [
    "## Encryptor"
   ]
  },
  {
   "cell_type": "code",
   "execution_count": 2,
   "metadata": {},
   "outputs": [],
   "source": [
    "M = 4*2\n",
    "SCALE = 1\n",
    "P = 1024\n",
    "q = 11\n",
    "LAMBDA = 10\n",
    "p = 2 \n",
    "l = 3\n",
    "L = 15\n",
    "ql = (p**l) * q"
   ]
  },
  {
   "cell_type": "code",
   "execution_count": 3,
   "metadata": {},
   "outputs": [
    {
     "name": "stdout",
     "output_type": "stream",
     "text": [
      "327680\n",
      "[DeviceArray([-50944.,  93723.,  94856.,  98777.], dtype=float32), DeviceArray([ 134256,   86777,   81941, -144762], dtype=int32)]\n"
     ]
    }
   ],
   "source": [
    "ctx = Context(M, SCALE, q, p, l, L, P)\n",
    "encoder = Encoder(M, SCALE)\n",
    "encryptor = Encryptor(ctx)\n",
    "print(encryptor.Q)\n",
    "print(encryptor.pub_key)"
   ]
  },
  {
   "cell_type": "code",
   "execution_count": 5,
   "metadata": {},
   "outputs": [
    {
     "data": {
      "text/plain": [
       "([DeviceArray([113007., -70339., -68651., -64619.], dtype=float32),\n",
       "  DeviceArray([ 134256,   86777,   81941, -144762], dtype=int32)],\n",
       " DeviceArray([ 111., -222.,  333.,  444.], dtype=float32))"
      ]
     },
     "execution_count": 5,
     "metadata": {},
     "output_type": "execute_result"
    }
   ],
   "source": [
    "fake = jnp.array([111, -222, 333, 444])\n",
    "encryptor.encrypt(fake),\\\n",
    "encryptor.decrypt(encryptor.encrypt(fake), L)"
   ]
  },
  {
   "cell_type": "code",
   "execution_count": 6,
   "metadata": {},
   "outputs": [],
   "source": [
    "m1 = jnp.array([111,222])\n",
    "m2 = jnp.array([999,20])\n",
    "\n",
    "encrypt = lambda x: encryptor.encrypt(encoder.encode(x))\n",
    "decrypt = lambda x: encoder.decode(encryptor.decrypt(x, L)) # L ~ first time encryption"
   ]
  },
  {
   "cell_type": "code",
   "execution_count": 7,
   "metadata": {},
   "outputs": [],
   "source": [
    "e1 = encoder.encode(m1)\n",
    "e2 = encoder.encode(m2)\n",
    "\n",
    "c1 = encryptor.encrypt(e1)\n",
    "c2 = encryptor.encrypt(e2)"
   ]
  },
  {
   "cell_type": "code",
   "execution_count": 8,
   "metadata": {},
   "outputs": [
    {
     "data": {
      "text/plain": [
       "(DeviceArray([111.845665-9.5367432e-06j, 222.15433 +2.4795532e-05j], dtype=complex64),\n",
       " DeviceArray([999.31793+9.1552734e-05j,  20.68219-1.8310547e-04j], dtype=complex64))"
      ]
     },
     "execution_count": 8,
     "metadata": {},
     "output_type": "execute_result"
    }
   ],
   "source": [
    "decrypt(c1), decrypt(c2)"
   ]
  },
  {
   "cell_type": "markdown",
   "metadata": {},
   "source": [
    "## Arithmetic"
   ]
  },
  {
   "cell_type": "markdown",
   "metadata": {},
   "source": [
    "### ADD"
   ]
  },
  {
   "cell_type": "code",
   "execution_count": 9,
   "metadata": {},
   "outputs": [],
   "source": [
    "def cipheradd(cipher1, cipher2):\n",
    "    return [\n",
    "        shift_mod(jnp.polyadd(cipher1[0],cipher2[0]), encryptor.Q) , \n",
    "        shift_mod(jnp.polyadd(cipher1[1],cipher2[1]), encryptor.Q),\n",
    "    ]"
   ]
  },
  {
   "cell_type": "code",
   "execution_count": 10,
   "metadata": {},
   "outputs": [],
   "source": [
    "mulc = cipheradd(c1, c2)"
   ]
  },
  {
   "cell_type": "code",
   "execution_count": 11,
   "metadata": {},
   "outputs": [
    {
     "data": {
      "text/plain": [
       "DeviceArray([1111.1636 +7.6293945e-05j,  242.83652-1.8310547e-04j], dtype=complex64)"
      ]
     },
     "execution_count": 11,
     "metadata": {},
     "output_type": "execute_result"
    }
   ],
   "source": [
    "decrypt(mulc)"
   ]
  },
  {
   "cell_type": "markdown",
   "metadata": {},
   "source": [
    "### Constant Multiplication"
   ]
  },
  {
   "cell_type": "code",
   "execution_count": 19,
   "metadata": {},
   "outputs": [
    {
     "data": {
      "text/plain": [
       "[DeviceArray([112907., -70095., -68951., -65019.], dtype=float32),\n",
       " DeviceArray([ 134256,   86777,   81941, -144762], dtype=int32)]"
      ]
     },
     "execution_count": 19,
     "metadata": {},
     "output_type": "execute_result"
    }
   ],
   "source": [
    "f1 = jnp.array([11,22,33,44])\n",
    "f2 = jnp.array([0,0,11,11])\n",
    "\n",
    "ef1 = encryptor.encrypt(f1)\n",
    "ef1"
   ]
  },
  {
   "cell_type": "code",
   "execution_count": 20,
   "metadata": {},
   "outputs": [],
   "source": [
    "def ciphermul_constant(cipher, constant):\n",
    "    return [\n",
    "        shift_mod(ring_polymul(cipher[0], constant, encryptor.modulo)[-4:], encryptor.Q),\n",
    "        shift_mod(ring_polymul(cipher[1], constant, encryptor.modulo)[-4:], encryptor.Q),\n",
    "    ]"
   ]
  },
  {
   "cell_type": "code",
   "execution_count": 21,
   "metadata": {},
   "outputs": [
    {
     "data": {
      "text/plain": [
       "DeviceArray([  470932., -1529506., -1473670., -1957186.], dtype=float32)"
      ]
     },
     "execution_count": 21,
     "metadata": {},
     "output_type": "execute_result"
    }
   ],
   "source": [
    "ring_polymul(ef1[0], f2, get_modulo(4))[-4:]"
   ]
  },
  {
   "cell_type": "code",
   "execution_count": 22,
   "metadata": {},
   "outputs": [
    {
     "data": {
      "text/plain": [
       "[DeviceArray([ -20588.,  -54946.,     890., -154946.], dtype=float32),\n",
       " DeviceArray([-26237.,  53658., 128169.,  43762.], dtype=float32)]"
      ]
     },
     "execution_count": 22,
     "metadata": {},
     "output_type": "execute_result"
    }
   ],
   "source": [
    "mulc = ciphermul_constant(ef1, f2)\n",
    "mulc"
   ]
  },
  {
   "cell_type": "code",
   "execution_count": 23,
   "metadata": {},
   "outputs": [
    {
     "data": {
      "text/plain": [
       "DeviceArray([363., 605., 847., 363.], dtype=float32)"
      ]
     },
     "execution_count": 23,
     "metadata": {},
     "output_type": "execute_result"
    }
   ],
   "source": [
    "encryptor.decrypt(mulc, L) #+ ctx.Q//2"
   ]
  },
  {
   "cell_type": "code",
   "execution_count": 24,
   "metadata": {},
   "outputs": [
    {
     "data": {
      "text/plain": [
       "DeviceArray([  0.,   0.,   0., 363., 605., 847., 363.], dtype=float32)"
      ]
     },
     "execution_count": 24,
     "metadata": {},
     "output_type": "execute_result"
    }
   ],
   "source": [
    "jnp.polydiv(jnp.polymul(f1, f2), get_modulo(4))[1]"
   ]
  },
  {
   "cell_type": "markdown",
   "metadata": {},
   "source": [
    "### Cipher Multiplication"
   ]
  },
  {
   "cell_type": "code",
   "execution_count": 58,
   "metadata": {},
   "outputs": [],
   "source": [
    "def ciphermul(c1, c2):\n",
    "    return [\n",
    "        shift_mod(ring_polymul(c1[0], c2[0], encryptor.modulo)[-4:], encryptor.Q),\n",
    "        shift_mod(\n",
    "            jnp.polyadd(\n",
    "                ring_polymul(c1[0], c2[1], encryptor.modulo)[-4:],\n",
    "                ring_polymul(c1[1], c2[0], encryptor.modulo)[-4:],\n",
    "            ),\n",
    "            encryptor.Q\n",
    "        ),\n",
    "        shift_mod(ring_polymul(c1[1], c2[1], encryptor.modulo)[-4:], encryptor.Q),\n",
    "    ]\n",
    "\n",
    "def deciphermul(ct, l):\n",
    "    return shift_mod(\n",
    "        ring_polyadd(\n",
    "            ring_polyadd(\n",
    "                ct[0],\n",
    "                ring_polymul(ct[1], ctx.sk, encryptor.modulo)[-4:],\n",
    "                encryptor.modulo\n",
    "            ),\n",
    "            ring_polymul(ct[2], ctx.sk_square, encryptor.modulo)[-4:],\n",
    "            encryptor.modulo\n",
    "        ),\n",
    "        (ctx.p**l) * ctx.q\n",
    "    )"
   ]
  },
  {
   "cell_type": "code",
   "execution_count": 59,
   "metadata": {},
   "outputs": [],
   "source": [
    "f1 = jnp.array([1,2,3,4])\n",
    "f2 = jnp.array([0,0,10,10])\n",
    "\n",
    "cf1 = encryptor.encrypt(f1)\n",
    "cf2 = encryptor.encrypt(f2)"
   ]
  },
  {
   "cell_type": "code",
   "execution_count": 60,
   "metadata": {},
   "outputs": [],
   "source": [
    "ct = ciphermul(cf1, cf2)"
   ]
  },
  {
   "cell_type": "code",
   "execution_count": 61,
   "metadata": {},
   "outputs": [
    {
     "data": {
      "text/plain": [
       "[DeviceArray([-148992.,  149504., -159744.,  -61440.], dtype=float32),\n",
       " DeviceArray([  57344.,   57344., -134656., -116736.], dtype=float32),\n",
       " DeviceArray([  90112., -122880.,  -16384., -147456.], dtype=float32)]"
      ]
     },
     "execution_count": 61,
     "metadata": {},
     "output_type": "execute_result"
    }
   ],
   "source": [
    "ct"
   ]
  },
  {
   "cell_type": "code",
   "execution_count": 72,
   "metadata": {},
   "outputs": [
    {
     "data": {
      "text/plain": [
       "DeviceArray([-3., -5.,  1., -3.], dtype=float32)"
      ]
     },
     "execution_count": 72,
     "metadata": {},
     "output_type": "execute_result"
    }
   ],
   "source": [
    "deciphermul(ct, 0)"
   ]
  },
  {
   "cell_type": "code",
   "execution_count": null,
   "metadata": {},
   "outputs": [],
   "source": []
  }
 ],
 "metadata": {
  "interpreter": {
   "hash": "cf8934f4a6d3b9684e2485c6bd5e1b906b167532c92da3f2906f8e5936170076"
  },
  "kernelspec": {
   "display_name": "Python 3.8.0 ('jax')",
   "language": "python",
   "name": "python3"
  },
  "language_info": {
   "codemirror_mode": {
    "name": "ipython",
    "version": 3
   },
   "file_extension": ".py",
   "mimetype": "text/x-python",
   "name": "python",
   "nbconvert_exporter": "python",
   "pygments_lexer": "ipython3",
   "version": "3.8.0"
  },
  "orig_nbformat": 4
 },
 "nbformat": 4,
 "nbformat_minor": 2
}
