{
 "cells": [
  {
   "cell_type": "code",
   "execution_count": 1,
   "metadata": {},
   "outputs": [],
   "source": [
    "import jax\n",
    "import jax.numpy as jnp\n",
    "from jax import jit\n"
   ]
  },
  {
   "cell_type": "code",
   "execution_count": 60,
   "metadata": {},
   "outputs": [],
   "source": [
    "Z = [-2, -1, 0, 1, 2]\n",
    "\n",
    "def Z(x):\n",
    "    -2 + x"
   ]
  },
  {
   "cell_type": "code",
   "execution_count": 75,
   "metadata": {},
   "outputs": [
    {
     "data": {
      "text/plain": [
       "DeviceArray(-2, dtype=int32, weak_type=True)"
      ]
     },
     "execution_count": 75,
     "metadata": {},
     "output_type": "execute_result"
    }
   ],
   "source": [
    "def shift_mod(x, modulo):\n",
    "    assert modulo % 2 == 1, \"modulo must be odd\"\n",
    "    return jnp.mod(x + modulo//2, modulo) - modulo//2\n",
    "\n",
    "shift_mod(3, 5)"
   ]
  },
  {
   "cell_type": "code",
   "execution_count": null,
   "metadata": {},
   "outputs": [],
   "source": [
    "-3, -2, -1, 0, 1, 2,  3,  4, 5, 6, 7\n",
    " 2, -2, -1, 0, 1, 2, -2, -1, 0, 1, 2 "
   ]
  }
 ],
 "metadata": {
  "interpreter": {
   "hash": "cf8934f4a6d3b9684e2485c6bd5e1b906b167532c92da3f2906f8e5936170076"
  },
  "kernelspec": {
   "display_name": "Python 3.8.0 ('jax')",
   "language": "python",
   "name": "python3"
  },
  "language_info": {
   "codemirror_mode": {
    "name": "ipython",
    "version": 3
   },
   "file_extension": ".py",
   "mimetype": "text/x-python",
   "name": "python",
   "nbconvert_exporter": "python",
   "pygments_lexer": "ipython3",
   "version": "3.8.0"
  },
  "orig_nbformat": 4
 },
 "nbformat": 4,
 "nbformat_minor": 2
}
