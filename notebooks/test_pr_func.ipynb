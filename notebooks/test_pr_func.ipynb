{
 "cells": [
  {
   "cell_type": "code",
   "execution_count": 1,
   "metadata": {},
   "outputs": [],
   "source": [
    "import os\n",
    "# os.environ['CUDA_VISIBLE_DEVICES']='1'\n",
    "\n",
    "from jax.config import config\n",
    "config.update(\"jax_enable_x64\", True)\n",
    "import jax\n",
    "from jax import jit\n",
    "from functools import reduce\n",
    "import jax.numpy as jnp\n",
    "\n",
    "from polynomials.pr_func import make_polynomial_ring_fn"
   ]
  },
  {
   "cell_type": "code",
   "execution_count": 3,
   "metadata": {},
   "outputs": [],
   "source": [
    "n = 80\n",
    "q = 671082899\n",
    "\n",
    "PRFN = make_polynomial_ring_fn(n)"
   ]
  },
  {
   "cell_type": "code",
   "execution_count": 24,
   "metadata": {},
   "outputs": [],
   "source": [
    "jk = jax.random.PRNGKey(0)\n",
    "p1 = jax.random.randint(jk, (n,), -9999, 9999)\n",
    "jk = jax.random.PRNGKey(1)\n",
    "p2 = jax.random.randint(jk, (n,), -9999, 9999)"
   ]
  },
  {
   "cell_type": "code",
   "execution_count": 25,
   "metadata": {},
   "outputs": [
    {
     "data": {
      "text/plain": [
       "DeviceArray([ -10509518,  171631148,  331747488, -221428672,  264388553,\n",
       "              227949274,     803795,  144377882,  135526307, -173098901,\n",
       "              -78523087, -215862503,  -69085383,  290994558,  153106816,\n",
       "              -83718296,  213051668, -297823320,  210537102,   99539234,\n",
       "             -195160625,  312635058, -278846797,   42934268,  -69340988,\n",
       "                2943196,  295306118,  329293125,  -55528203,  107669239,\n",
       "               15741122,  113798565,  308692968,  105404837, -120091915,\n",
       "               73019056,  -97571631, -139040527,  169814642,  330781628,\n",
       "               75615807,  111456949,    2855573,  -50163236, -229139113,\n",
       "              119423271,    3765193,  -17271419,  -51536170,  172973390,\n",
       "               55820790,  234351653,  171185714, -177881291,  -29577091,\n",
       "                2413924, -301282291, -190850430, -294284398, -175371203,\n",
       "             -172518328, -160814389, -240529566, -204882254,  286901137,\n",
       "             -125243920, -305357218, -153321565,   71653277,  -97555273,\n",
       "               50426609,  -79430298, -211674432, -199715602, -152202884,\n",
       "                5251243,  228090351,  150063995, -186856369,  258710920],            dtype=int64)"
      ]
     },
     "execution_count": 25,
     "metadata": {},
     "output_type": "execute_result"
    }
   ],
   "source": [
    "PRFN.mul(q, p1, p1, p1, p1)"
   ]
  },
  {
   "cell_type": "code",
   "execution_count": 26,
   "metadata": {},
   "outputs": [
    {
     "data": {
      "text/plain": [
       "DeviceArray([ 6552,  7342,  5401, -3663,  3711,  -654,  3781, -2309,\n",
       "             -1819,  9242,  5305,  5380,   208, -7748, -3115,  3478,\n",
       "             -3695, -8494, -5604,  -846, -1962, -1779,  2688,  9698,\n",
       "             -8193, -9895,  8472, -1306, -1340,  7711, -1192,  4981,\n",
       "              4832,  5136,  2434, -8166,  4218, -5128,  1204,  5733,\n",
       "             -6400,  1060,  8633,  6236,  3302,  2388,  8803,  5525,\n",
       "              1424,  1290, -8407,  6549, -6214, -5366, -2352, -4962,\n",
       "             -4723, -8523,  1227, -9175, -7211,  4136,  6088,  2282,\n",
       "              6529, -4779,  3295,  1061,  5070,  2535,  6312, -8891,\n",
       "             -5917,  6256, -5622,  -832,   390,  7734,  2864,  7004],            dtype=int64)"
      ]
     },
     "execution_count": 26,
     "metadata": {},
     "output_type": "execute_result"
    }
   ],
   "source": [
    "@jit\n",
    "def test(x, y):\n",
    "    xy = PRFN.mul(x, y)\n",
    "    return PRFN.add(xy, xy)\n",
    "\n",
    "test(p1, p2)"
   ]
  },
  {
   "cell_type": "code",
   "execution_count": 27,
   "metadata": {},
   "outputs": [
    {
     "data": {
      "text/plain": [
       "DeviceArray([  794,  2488,  1593,  1576, -1509,    27,    11,  2031,\n",
       "              -451, -1503,  1768,  2120,  -242,  -139, -2465, -1615,\n",
       "              -193,    38, -1817,  1639, -1850,  -797,  -813,  -538,\n",
       "             -1180,  1111,    19, -2608,  -261,     3,  1776,  2684,\n",
       "              1977, -2838, -1538, -2753,  -320,   146,  1953,   348,\n",
       "              1498,   544,    73,    35,    63,   617,  -660,    -1,\n",
       "               386,  2607,  2902,   659,   696,  1169,  -830, -1276,\n",
       "              1207,  2005,  -610,   -89,  -185,  -462,   216,  -187,\n",
       "             -3201, -1270,   346,   752, -3178,  1239,  2842,  -478,\n",
       "              4016,   109, -4120,  1108, -2173,   252,   457,   696],            dtype=int64)"
      ]
     },
     "execution_count": 27,
     "metadata": {},
     "output_type": "execute_result"
    }
   ],
   "source": [
    "PRFN.add(p1, p2, p1, p2, p1, p1, p2, PRFN.mul(p1, p2, p1))"
   ]
  },
  {
   "cell_type": "code",
   "execution_count": 28,
   "metadata": {},
   "outputs": [
    {
     "data": {
      "text/plain": [
       "DeviceArray([ 0, -1,  0, -1,  0, -1,  0,  0,  1,  0,  0,  1, -1,  0,  0,\n",
       "             -1,  0,  0, -1,  1,  0,  0,  0,  1,  0,  0,  1,  0,  0,  0,\n",
       "             -1,  0,  0,  0,  1,  1,  1, -1,  0, -1, -1,  1,  0, -1,  0,\n",
       "              0,  1,  0,  1,  0,  0,  1,  0,  1,  0,  0,  0, -1,  1, -1,\n",
       "              1, -1, -1, -1, -1,  0,  0,  0,  0,  0,  1,  0,  0,  0, -1,\n",
       "             -1,  0,  1, -1,  1], dtype=int64)"
      ]
     },
     "execution_count": 28,
     "metadata": {},
     "output_type": "execute_result"
    }
   ],
   "source": [
    "jax.random.choice(jax.random.PRNGKey(4), jnp.array([-1, 0, 1]), (80,), p =jnp.array([0.25, 0.5, 0.25]))"
   ]
  },
  {
   "cell_type": "code",
   "execution_count": 4,
   "metadata": {},
   "outputs": [
    {
     "ename": "TypeError",
     "evalue": "Using a non-tuple sequence for multidimensional indexing is not allowed; use `arr[array(seq)]` instead of `arr[seq]`. See https://github.com/google/jax/issues/4564 for more information.",
     "output_type": "error",
     "traceback": [
      "\u001b[0;31m---------------------------------------------------------------------------\u001b[0m",
      "\u001b[0;31mTypeError\u001b[0m                                 Traceback (most recent call last)",
      "\u001b[1;32m/home/jiajie/Repos/HE/ckks_jax/notebooks/test_pr_func.ipynb Cell 8'\u001b[0m in \u001b[0;36m<cell line: 1>\u001b[0;34m()\u001b[0m\n\u001b[0;32m----> <a href='vscode-notebook-cell://ssh-remote%2Bpolaris.cse.buffalo.edu/home/jiajie/Repos/HE/ckks_jax/notebooks/test_pr_func.ipynb#ch0000024vscode-remote?line=0'>1</a>\u001b[0m PRFN\u001b[39m.\u001b[39;49msample_HWT(\u001b[39m1\u001b[39;49m)\n",
      "File \u001b[0;32m~/Repos/HE/ckks_jax/notebooks/polynomials/pr_func.py:117\u001b[0m, in \u001b[0;36mmake_polynomial_ring_fn.<locals>.PR_FN.sample_HWT\u001b[0;34m(h, seed)\u001b[0m\n\u001b[1;32m    <a href='file:///home/jiajie/Repos/HE/ckks_jax/notebooks/polynomials/pr_func.py?line=114'>115</a>\u001b[0m ix \u001b[39m=\u001b[39m random\u001b[39m.\u001b[39msample(\u001b[39mrange\u001b[39m(n), h)\n\u001b[1;32m    <a href='file:///home/jiajie/Repos/HE/ckks_jax/notebooks/polynomials/pr_func.py?line=115'>116</a>\u001b[0m coeffs \u001b[39m=\u001b[39m jnp\u001b[39m.\u001b[39mzeros((n,)) \n\u001b[0;32m--> <a href='file:///home/jiajie/Repos/HE/ckks_jax/notebooks/polynomials/pr_func.py?line=116'>117</a>\u001b[0m coeffs \u001b[39m=\u001b[39m coeffs\u001b[39m.\u001b[39;49mat[ix]\u001b[39m.\u001b[39;49mset(random\u001b[39m.\u001b[39;49msample([\u001b[39m-\u001b[39;49m\u001b[39m1\u001b[39;49m,\u001b[39m1\u001b[39;49m],\u001b[39m1\u001b[39;49m)[\u001b[39m0\u001b[39;49m])\n\u001b[1;32m    <a href='file:///home/jiajie/Repos/HE/ckks_jax/notebooks/polynomials/pr_func.py?line=117'>118</a>\u001b[0m \u001b[39mreturn\u001b[39;00m coeffs\n",
      "File \u001b[0;32m~/OSS/jax/jax/_src/numpy/lax_numpy.py:4783\u001b[0m, in \u001b[0;36m_IndexUpdateRef.set\u001b[0;34m(self, values, indices_are_sorted, unique_indices, mode)\u001b[0m\n\u001b[1;32m   <a href='file:///home/jiajie/OSS/jax/jax/_src/numpy/lax_numpy.py?line=4773'>4774</a>\u001b[0m \u001b[39mdef\u001b[39;00m \u001b[39mset\u001b[39m(\u001b[39mself\u001b[39m, values, indices_are_sorted\u001b[39m=\u001b[39m\u001b[39mFalse\u001b[39;00m, unique_indices\u001b[39m=\u001b[39m\u001b[39mFalse\u001b[39;00m,\n\u001b[1;32m   <a href='file:///home/jiajie/OSS/jax/jax/_src/numpy/lax_numpy.py?line=4774'>4775</a>\u001b[0m         mode\u001b[39m=\u001b[39m\u001b[39mNone\u001b[39;00m):\n\u001b[1;32m   <a href='file:///home/jiajie/OSS/jax/jax/_src/numpy/lax_numpy.py?line=4775'>4776</a>\u001b[0m   \u001b[39m\"\"\"Pure equivalent of ``x[idx] = y``.\u001b[39;00m\n\u001b[1;32m   <a href='file:///home/jiajie/OSS/jax/jax/_src/numpy/lax_numpy.py?line=4776'>4777</a>\u001b[0m \n\u001b[1;32m   <a href='file:///home/jiajie/OSS/jax/jax/_src/numpy/lax_numpy.py?line=4777'>4778</a>\u001b[0m \u001b[39m  Returns the value of ``x`` that would result from the NumPy-style\u001b[39;00m\n\u001b[0;32m   (...)\u001b[0m\n\u001b[1;32m   <a href='file:///home/jiajie/OSS/jax/jax/_src/numpy/lax_numpy.py?line=4780'>4781</a>\u001b[0m \u001b[39m  See :mod:`jax.ops` for details.\u001b[39;00m\n\u001b[1;32m   <a href='file:///home/jiajie/OSS/jax/jax/_src/numpy/lax_numpy.py?line=4781'>4782</a>\u001b[0m \u001b[39m  \"\"\"\u001b[39;00m\n\u001b[0;32m-> <a href='file:///home/jiajie/OSS/jax/jax/_src/numpy/lax_numpy.py?line=4782'>4783</a>\u001b[0m   \u001b[39mreturn\u001b[39;00m scatter\u001b[39m.\u001b[39;49m_scatter_update(\u001b[39mself\u001b[39;49m\u001b[39m.\u001b[39;49marray, \u001b[39mself\u001b[39;49m\u001b[39m.\u001b[39;49mindex, values, lax\u001b[39m.\u001b[39;49mscatter,\n\u001b[1;32m   <a href='file:///home/jiajie/OSS/jax/jax/_src/numpy/lax_numpy.py?line=4783'>4784</a>\u001b[0m                                  indices_are_sorted\u001b[39m=\u001b[39;49mindices_are_sorted,\n\u001b[1;32m   <a href='file:///home/jiajie/OSS/jax/jax/_src/numpy/lax_numpy.py?line=4784'>4785</a>\u001b[0m                                  unique_indices\u001b[39m=\u001b[39;49munique_indices, mode\u001b[39m=\u001b[39;49mmode)\n",
      "File \u001b[0;32m~/OSS/jax/jax/_src/ops/scatter.py:69\u001b[0m, in \u001b[0;36m_scatter_update\u001b[0;34m(x, idx, y, scatter_op, indices_are_sorted, unique_indices, mode, normalize_indices)\u001b[0m\n\u001b[1;32m     <a href='file:///home/jiajie/OSS/jax/jax/_src/ops/scatter.py?line=65'>66</a>\u001b[0m y \u001b[39m=\u001b[39m jnp\u001b[39m.\u001b[39masarray(y)\n\u001b[1;32m     <a href='file:///home/jiajie/OSS/jax/jax/_src/ops/scatter.py?line=66'>67</a>\u001b[0m \u001b[39m# XLA gathers and scatters are very similar in structure; the scatter logic\u001b[39;00m\n\u001b[1;32m     <a href='file:///home/jiajie/OSS/jax/jax/_src/ops/scatter.py?line=67'>68</a>\u001b[0m \u001b[39m# is more or less a transpose of the gather equivalent.\u001b[39;00m\n\u001b[0;32m---> <a href='file:///home/jiajie/OSS/jax/jax/_src/ops/scatter.py?line=68'>69</a>\u001b[0m treedef, static_idx, dynamic_idx \u001b[39m=\u001b[39m jnp\u001b[39m.\u001b[39;49m_split_index_for_jit(idx, x\u001b[39m.\u001b[39;49mshape)\n\u001b[1;32m     <a href='file:///home/jiajie/OSS/jax/jax/_src/ops/scatter.py?line=69'>70</a>\u001b[0m \u001b[39mreturn\u001b[39;00m _scatter_impl(x, y, scatter_op, treedef, static_idx, dynamic_idx,\n\u001b[1;32m     <a href='file:///home/jiajie/OSS/jax/jax/_src/ops/scatter.py?line=70'>71</a>\u001b[0m                      indices_are_sorted, unique_indices, mode,\n\u001b[1;32m     <a href='file:///home/jiajie/OSS/jax/jax/_src/ops/scatter.py?line=71'>72</a>\u001b[0m                      normalize_indices)\n",
      "File \u001b[0;32m~/OSS/jax/jax/_src/numpy/lax_numpy.py:3579\u001b[0m, in \u001b[0;36m_split_index_for_jit\u001b[0;34m(idx, shape)\u001b[0m\n\u001b[1;32m   <a href='file:///home/jiajie/OSS/jax/jax/_src/numpy/lax_numpy.py?line=3573'>3574</a>\u001b[0m \u001b[39m\"\"\"Splits indices into necessarily-static and dynamic parts.\u001b[39;00m\n\u001b[1;32m   <a href='file:///home/jiajie/OSS/jax/jax/_src/numpy/lax_numpy.py?line=3574'>3575</a>\u001b[0m \n\u001b[1;32m   <a href='file:///home/jiajie/OSS/jax/jax/_src/numpy/lax_numpy.py?line=3575'>3576</a>\u001b[0m \u001b[39mUsed to pass indices into `jit`-ted function.\u001b[39;00m\n\u001b[1;32m   <a href='file:///home/jiajie/OSS/jax/jax/_src/numpy/lax_numpy.py?line=3576'>3577</a>\u001b[0m \u001b[39m\"\"\"\u001b[39;00m\n\u001b[1;32m   <a href='file:///home/jiajie/OSS/jax/jax/_src/numpy/lax_numpy.py?line=3577'>3578</a>\u001b[0m \u001b[39m# Convert list indices to tuples in cases (deprecated by NumPy.)\u001b[39;00m\n\u001b[0;32m-> <a href='file:///home/jiajie/OSS/jax/jax/_src/numpy/lax_numpy.py?line=3578'>3579</a>\u001b[0m idx \u001b[39m=\u001b[39m _eliminate_deprecated_list_indexing(idx)\n\u001b[1;32m   <a href='file:///home/jiajie/OSS/jax/jax/_src/numpy/lax_numpy.py?line=3580'>3581</a>\u001b[0m \u001b[39m# Expand any (concrete) boolean indices. We can then use advanced integer\u001b[39;00m\n\u001b[1;32m   <a href='file:///home/jiajie/OSS/jax/jax/_src/numpy/lax_numpy.py?line=3581'>3582</a>\u001b[0m \u001b[39m# indexing logic to handle them.\u001b[39;00m\n\u001b[1;32m   <a href='file:///home/jiajie/OSS/jax/jax/_src/numpy/lax_numpy.py?line=3582'>3583</a>\u001b[0m idx \u001b[39m=\u001b[39m _expand_bool_indices(idx, shape)\n",
      "File \u001b[0;32m~/OSS/jax/jax/_src/numpy/lax_numpy.py:3850\u001b[0m, in \u001b[0;36m_eliminate_deprecated_list_indexing\u001b[0;34m(idx)\u001b[0m\n\u001b[1;32m   <a href='file:///home/jiajie/OSS/jax/jax/_src/numpy/lax_numpy.py?line=3845'>3846</a>\u001b[0m   \u001b[39melse\u001b[39;00m:\n\u001b[1;32m   <a href='file:///home/jiajie/OSS/jax/jax/_src/numpy/lax_numpy.py?line=3846'>3847</a>\u001b[0m     msg \u001b[39m=\u001b[39m (\u001b[39m\"\u001b[39m\u001b[39mUsing a non-tuple sequence for multidimensional indexing is not allowed; \u001b[39m\u001b[39m\"\u001b[39m\n\u001b[1;32m   <a href='file:///home/jiajie/OSS/jax/jax/_src/numpy/lax_numpy.py?line=3847'>3848</a>\u001b[0m            \u001b[39m\"\u001b[39m\u001b[39muse `arr[array(seq)]` instead of `arr[seq]`. \u001b[39m\u001b[39m\"\u001b[39m\n\u001b[1;32m   <a href='file:///home/jiajie/OSS/jax/jax/_src/numpy/lax_numpy.py?line=3848'>3849</a>\u001b[0m            \u001b[39m\"\u001b[39m\u001b[39mSee https://github.com/google/jax/issues/4564 for more information.\u001b[39m\u001b[39m\"\u001b[39m)\n\u001b[0;32m-> <a href='file:///home/jiajie/OSS/jax/jax/_src/numpy/lax_numpy.py?line=3849'>3850</a>\u001b[0m   \u001b[39mraise\u001b[39;00m \u001b[39mTypeError\u001b[39;00m(msg)\n\u001b[1;32m   <a href='file:///home/jiajie/OSS/jax/jax/_src/numpy/lax_numpy.py?line=3850'>3851</a>\u001b[0m \u001b[39melse\u001b[39;00m:\n\u001b[1;32m   <a href='file:///home/jiajie/OSS/jax/jax/_src/numpy/lax_numpy.py?line=3851'>3852</a>\u001b[0m   idx \u001b[39m=\u001b[39m (idx,)\n",
      "\u001b[0;31mTypeError\u001b[0m: Using a non-tuple sequence for multidimensional indexing is not allowed; use `arr[array(seq)]` instead of `arr[seq]`. See https://github.com/google/jax/issues/4564 for more information."
     ]
    }
   ],
   "source": [
    "PRFN.sample_HWT(1)"
   ]
  },
  {
   "cell_type": "code",
   "execution_count": 7,
   "metadata": {},
   "outputs": [
    {
     "data": {
      "text/plain": [
       "(49, 53, 5, 33, 65, 62, 51, 38, 61, 45)"
      ]
     },
     "execution_count": 7,
     "metadata": {},
     "output_type": "execute_result"
    }
   ],
   "source": [
    "tuple(ix)"
   ]
  },
  {
   "cell_type": "code",
   "execution_count": 21,
   "metadata": {},
   "outputs": [
    {
     "data": {
      "text/plain": [
       "(20,)"
      ]
     },
     "execution_count": 21,
     "metadata": {},
     "output_type": "execute_result"
    }
   ],
   "source": [
    "coeffs.shape"
   ]
  },
  {
   "cell_type": "code",
   "execution_count": 28,
   "metadata": {},
   "outputs": [
    {
     "data": {
      "text/plain": [
       "DeviceArray([0., 0., 0., 0., 0., 0., 0., 0., 0., 0., 0., 0., 0., 0., 0.,\n",
       "             0., 0., 0., 0., 0.], dtype=float64)"
      ]
     },
     "execution_count": 28,
     "metadata": {},
     "output_type": "execute_result"
    }
   ],
   "source": [
    "coeffs"
   ]
  },
  {
   "cell_type": "code",
   "execution_count": 33,
   "metadata": {},
   "outputs": [
    {
     "data": {
      "text/plain": [
       "_IndexUpdateRef(DeviceArray([0., 0., 0., 0., 0., 0., 0., 0., 0., 0., 0., 0., 0., 0., 0.,\n",
       "             0., 0., 0., 0., 0.], dtype=float64), 0)"
      ]
     },
     "execution_count": 33,
     "metadata": {},
     "output_type": "execute_result"
    }
   ],
   "source": [
    "coeffs.at[0]"
   ]
  },
  {
   "cell_type": "code",
   "execution_count": 38,
   "metadata": {},
   "outputs": [
    {
     "data": {
      "text/plain": [
       "DeviceArray([ 0.,  0., -1., -1.,  1.,  0.,  0.,  1.,  1.,  0.,  1.,  0.,\n",
       "              1.,  1., -1.,  0.,  0.,  0., -1.,  0.], dtype=float64)"
      ]
     },
     "execution_count": 38,
     "metadata": {},
     "output_type": "execute_result"
    }
   ],
   "source": [
    "import random\n",
    "random.seed(1)\n",
    "ix = tuple(random.sample(range(20), 10))\n",
    "coeffs = jnp.zeros(20)\n",
    "for i in ix:\n",
    "    coeffs = coeffs.at[i].set(random.sample([-1,1],1)[0])\n",
    "coeffs"
   ]
  }
 ],
 "metadata": {
  "interpreter": {
   "hash": "cf8934f4a6d3b9684e2485c6bd5e1b906b167532c92da3f2906f8e5936170076"
  },
  "kernelspec": {
   "display_name": "Python 3.8.0 ('jax')",
   "language": "python",
   "name": "python3"
  },
  "language_info": {
   "codemirror_mode": {
    "name": "ipython",
    "version": 3
   },
   "file_extension": ".py",
   "mimetype": "text/x-python",
   "name": "python",
   "nbconvert_exporter": "python",
   "pygments_lexer": "ipython3",
   "version": "3.8.0"
  },
  "orig_nbformat": 4
 },
 "nbformat": 4,
 "nbformat_minor": 2
}
