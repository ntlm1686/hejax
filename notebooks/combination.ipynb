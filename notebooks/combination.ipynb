{
 "cells": [
  {
   "cell_type": "code",
   "execution_count": 21,
   "metadata": {},
   "outputs": [],
   "source": [
    "from jax.config import config\n",
    "config.update(\"jax_enable_x64\", True)\n",
    "\n",
    "import jax\n",
    "import jax.numpy as jnp\n",
    "\n",
    "from ckks.encoder import Encoder\n",
    "from ckks.rlwe_jit import Encryptor\n",
    "\n",
    "from ckks.utils import get_modulo"
   ]
  },
  {
   "cell_type": "code",
   "execution_count": 26,
   "metadata": {},
   "outputs": [],
   "source": [
    "scale = 2**12\n",
    "M = 32\n",
    "\n",
    "n = M//2\n",
    "q = 3\n",
    "P = 1023\n",
    "seed = 5\n",
    "std = 1\n",
    "p = 3\n",
    "L = 17\n",
    "h = 2\n",
    "\n",
    "def mul(x, y):\n",
    "    return jnp.polydiv(\n",
    "        jnp.polymul(x, y),\n",
    "        get_modulo(n)\n",
    "    )[1][-n:]\n",
    "    \n",
    "def shift_mod(x, modulo):\n",
    "    modulo_half = modulo // 2\n",
    "    return jnp.mod(x + modulo_half, modulo) - modulo_half\n",
    "\n",
    "encoder = Encoder(M, scale)\n",
    "encryptor = Encryptor(n, q, p, L, P, std, h, seed)\n",
    "\n",
    "sk, pk = encryptor.generate_keys()\n",
    "\n",
    "m1 = jnp.array([111, 222, 333, 444, 555, 666, 777, 888])\n",
    "m2 = jnp.flip(m1)"
   ]
  },
  {
   "cell_type": "code",
   "execution_count": 34,
   "metadata": {},
   "outputs": [
    {
     "data": {
      "text/plain": [
       "DeviceArray([  98568.,  283383.,  542124.,  862470., 1232100., 1638693.,\n",
       "             2069928., 2513484., 2069928., 1638693., 1232100.,  862470.,\n",
       "              542124.,  283383.,   98568.], dtype=float64)"
      ]
     },
     "execution_count": 34,
     "metadata": {},
     "output_type": "execute_result"
    }
   ],
   "source": [
    "mul(m1, m2)"
   ]
  },
  {
   "cell_type": "code",
   "execution_count": 27,
   "metadata": {},
   "outputs": [
    {
     "data": {
      "text/plain": [
       "DeviceArray([2045952, -732260,       0,  -76547,       0,  -22835,\n",
       "                   0,   -5763,       0,    5763,       0,   22836,\n",
       "                   0,   76548,       0,  732260], dtype=int64)"
      ]
     },
     "execution_count": 27,
     "metadata": {},
     "output_type": "execute_result"
    }
   ],
   "source": [
    "e1 = encoder.encode(m1)\n",
    "e2 = encoder.encode(m2)\n",
    "e1"
   ]
  },
  {
   "cell_type": "code",
   "execution_count": 41,
   "metadata": {},
   "outputs": [
    {
     "data": {
      "text/plain": [
       "DeviceArray([1.02195302e+09-5.28954473e+07j,\n",
       "             1.02195302e+09-1.48300987e+08j,\n",
       "             1.02195302e+09-2.18011752e+08j,\n",
       "             1.02195302e+09-2.54547315e+08j,\n",
       "             1.02195302e+09-2.54547315e+08j,\n",
       "             1.02195302e+09-2.18011752e+08j,\n",
       "             1.02195302e+09-1.48300987e+08j,\n",
       "             1.02195302e+09-5.28954473e+07j], dtype=complex128)"
      ]
     },
     "execution_count": 41,
     "metadata": {},
     "output_type": "execute_result"
    }
   ],
   "source": [
    "encoder.decode()"
   ]
  },
  {
   "cell_type": "code",
   "execution_count": 38,
   "metadata": {},
   "outputs": [
    {
     "data": {
      "text/plain": [
       "DeviceArray([ 0.00000000e+00, -3.10068179e+12,  0.00000000e+00,\n",
       "              6.52036043e+11, -2.04595200e+06,  1.46167476e+11,\n",
       "             -2.04595200e+06,  4.63388484e+10,  0.00000000e+00,\n",
       "              0.00000000e+00,  0.00000000e+00, -4.63388484e+10,\n",
       "             -2.04595200e+06, -1.46167476e+11, -2.04595200e+06,\n",
       "             -6.52036043e+11], dtype=float64)"
      ]
     },
     "execution_count": 38,
     "metadata": {},
     "output_type": "execute_result"
    }
   ],
   "source": [
    "mul(e1, e2)"
   ]
  },
  {
   "cell_type": "code",
   "execution_count": 37,
   "metadata": {},
   "outputs": [
    {
     "data": {
      "text/plain": [
       "DeviceArray([ -96674.05969718 -19230.01100028j,\n",
       "             -143423.40765994 -95832.80209768j,\n",
       "             -123213.41971075-184401.56905511j,\n",
       "              -48074.22224456-241685.0911216j ,\n",
       "               48074.09024873-241685.1173772j ,\n",
       "              123213.10104464-184401.781981j  ,\n",
       "              143423.72632605 -95832.32518013j,\n",
       "               96674.19169301 -19229.34741245j], dtype=complex128)"
      ]
     },
     "execution_count": 37,
     "metadata": {},
     "output_type": "execute_result"
    }
   ],
   "source": [
    "encoder.decode(mul(e1, e2))"
   ]
  },
  {
   "cell_type": "code",
   "execution_count": 29,
   "metadata": {},
   "outputs": [],
   "source": [
    "c1 = encryptor.encrypt(e1, pk)\n",
    "c2 = encryptor.encrypt(e2, pk)"
   ]
  },
  {
   "cell_type": "code",
   "execution_count": 48,
   "metadata": {},
   "outputs": [
    {
     "data": {
      "text/plain": [
       "DeviceArray([ 0.00000000e+00, -3.10068179e+12,  0.00000000e+00,\n",
       "              6.52036043e+11, -2.04595200e+06,  1.46167476e+11,\n",
       "             -2.04595200e+06,  4.63388484e+10,  0.00000000e+00,\n",
       "              0.00000000e+00,  0.00000000e+00, -4.63388484e+10,\n",
       "             -2.04595200e+06, -1.46167476e+11, -2.04595200e+06,\n",
       "             -6.52036043e+11], dtype=float64)"
      ]
     },
     "execution_count": 48,
     "metadata": {},
     "output_type": "execute_result"
    }
   ],
   "source": [
    "(mul(e1, e2),)"
   ]
  },
  {
   "cell_type": "code",
   "execution_count": 46,
   "metadata": {},
   "outputs": [
    {
     "data": {
      "text/plain": [
       "DeviceArray([ 2.45949510e+07, -1.67854716e+08, -4.21551000e+05,\n",
       "             -1.32345860e+07, -1.43014760e+07,  1.35045607e+08,\n",
       "              5.88604800e+06, -1.26976295e+08, -1.30887490e+07,\n",
       "             -3.89947600e+06, -1.59377230e+07,  1.56273274e+08,\n",
       "             -1.39299670e+07, -9.83145260e+07, -1.87181270e+07,\n",
       "              1.65292520e+07], dtype=float64)"
      ]
     },
     "execution_count": 46,
     "metadata": {},
     "output_type": "execute_result"
    }
   ],
   "source": [
    "encryptor.decrypt(encryptor.mul(c1, c2, L), L, sk)"
   ]
  },
  {
   "cell_type": "code",
   "execution_count": 30,
   "metadata": {},
   "outputs": [
    {
     "data": {
      "text/plain": [
       "DeviceArray([ 2.045955e+06, -7.322600e+05,  5.000000e+00, -7.654400e+04,\n",
       "             -6.000000e+00, -2.283700e+04, -6.000000e+00, -5.760000e+03,\n",
       "              1.000000e+00,  5.767000e+03, -1.000000e+00,  2.283900e+04,\n",
       "             -3.000000e+00,  7.655200e+04, -6.000000e+00,  7.322660e+05],            dtype=float64)"
      ]
     },
     "execution_count": 30,
     "metadata": {},
     "output_type": "execute_result"
    }
   ],
   "source": [
    "rec_e1 = encryptor.decrypt(c1, L, sk)\n",
    "rec_e2 = encryptor.decrypt(c2, L, sk)\n",
    "rec_e1"
   ]
  },
  {
   "cell_type": "code",
   "execution_count": 31,
   "metadata": {},
   "outputs": [
    {
     "data": {
      "text/plain": [
       "DeviceArray([110.99997082+4.71127635e-04j, 222.0036717 +3.43116368e-05j,\n",
       "             332.99810763+4.29585616e-03j, 443.9972331 -6.12162142e-04j,\n",
       "             554.99916798+1.13364777e-04j, 666.00008202-1.56714894e-04j,\n",
       "             777.00313994+2.77310877e-03j, 888.00448618+6.43489775e-03j],            dtype=complex128)"
      ]
     },
     "execution_count": 31,
     "metadata": {},
     "output_type": "execute_result"
    }
   ],
   "source": [
    "encoder.decode(rec_e1)"
   ]
  },
  {
   "cell_type": "code",
   "execution_count": 32,
   "metadata": {},
   "outputs": [
    {
     "data": {
      "text/plain": [
       "DeviceArray([887.99975516+4.71127635e-04j, 777.00346502+3.43116359e-05j,\n",
       "             665.99805099+4.29585616e-03j, 554.99731665-6.12162142e-04j,\n",
       "             443.99908444+1.13364777e-04j, 333.00013866-1.56714893e-04j,\n",
       "             222.00334662+2.77310877e-03j, 111.00470184+6.43489775e-03j],            dtype=complex128)"
      ]
     },
     "execution_count": 32,
     "metadata": {},
     "output_type": "execute_result"
    }
   ],
   "source": [
    "encoder.decode(rec_e2)"
   ]
  },
  {
   "cell_type": "code",
   "execution_count": null,
   "metadata": {},
   "outputs": [],
   "source": []
  }
 ],
 "metadata": {
  "interpreter": {
   "hash": "cf8934f4a6d3b9684e2485c6bd5e1b906b167532c92da3f2906f8e5936170076"
  },
  "kernelspec": {
   "display_name": "Python 3.8.0 ('jax')",
   "language": "python",
   "name": "python3"
  },
  "language_info": {
   "codemirror_mode": {
    "name": "ipython",
    "version": 3
   },
   "file_extension": ".py",
   "mimetype": "text/x-python",
   "name": "python",
   "nbconvert_exporter": "python",
   "pygments_lexer": "ipython3",
   "version": "3.8.0"
  },
  "orig_nbformat": 4
 },
 "nbformat": 4,
 "nbformat_minor": 2
}
